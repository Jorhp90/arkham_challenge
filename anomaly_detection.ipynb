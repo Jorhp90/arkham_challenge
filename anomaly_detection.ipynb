{
 "cells": [
  {
   "cell_type": "code",
   "execution_count": 162,
   "metadata": {},
   "outputs": [],
   "source": [
    "#pip install --no-cache-dir psycopg2-binary"
   ]
  },
  {
   "cell_type": "code",
   "execution_count": 19,
   "metadata": {},
   "outputs": [],
   "source": [
    "import psycopg2\n",
    "import numpy as np\n",
    "import pandas as pd\n",
    "import matplotlib.pyplot as plt"
   ]
  },
  {
   "cell_type": "code",
   "execution_count": 241,
   "metadata": {},
   "outputs": [
    {
     "name": "stdout",
     "output_type": "stream",
     "text": [
      "Connected to Redshift successfully!\n"
     ]
    }
   ],
   "source": [
    "try:\n",
    "    conn = psycopg2.connect(\n",
    "        dbname=dbname,\n",
    "        user=user,\n",
    "        password=password,\n",
    "        host=host,\n",
    "        port=port\n",
    "    )\n",
    "    print(\"Connected to Redshift successfully!\")\n",
    "except Exception as e:\n",
    "    print(\"Connection failed: \", e)\n",
    "\n",
    "# Don't forget to close the connection when done\n",
    "# conn.close()"
   ]
  },
  {
   "cell_type": "code",
   "execution_count": 142,
   "metadata": {},
   "outputs": [],
   "source": [
    "query = \"SELECT * FROM fact_sensor_readings;\""
   ]
  },
  {
   "cell_type": "code",
   "execution_count": 148,
   "metadata": {},
   "outputs": [],
   "source": [
    "#conn.close()"
   ]
  },
  {
   "cell_type": "code",
   "execution_count": 32,
   "metadata": {},
   "outputs": [],
   "source": [
    "q_sensors = 'select * from dim_sensors;'\n",
    "q_time = 'select * from dim_time;'\n",
    "q_equipments = 'select * from dim_equipments;'\n",
    "q_plants = 'select * from dim_plants;'"
   ]
  },
  {
   "cell_type": "code",
   "execution_count": 36,
   "metadata": {},
   "outputs": [],
   "source": [
    "df_time = pd.read_sql(q_time, conn)"
   ]
  },
  {
   "cell_type": "code",
   "execution_count": 242,
   "metadata": {},
   "outputs": [],
   "source": [
    "df_sensors = pd.read_sql(q_sensors, conn)\n",
    "#df_sensors.name = df_sensors.name.str.rstrip('\\t')"
   ]
  },
  {
   "cell_type": "code",
   "execution_count": 244,
   "metadata": {},
   "outputs": [
    {
     "data": {
      "text/plain": [
       "array(['Thermocouple', 'Vibration Sensor', 'Temperature Sensor\\t',\n",
       "       'Voltage Sensor', 'Coolant temperature', 'Pressure Sensor',\n",
       "       'Oil Temperature Sensor\\t', 'Moisture Sensor\\t'], dtype=object)"
      ]
     },
     "execution_count": 244,
     "metadata": {},
     "output_type": "execute_result"
    }
   ],
   "source": [
    "df_sensors.name.unique()"
   ]
  },
  {
   "cell_type": "code",
   "execution_count": 38,
   "metadata": {},
   "outputs": [],
   "source": [
    "df_equipments = pd.read_sql(q_equipments, conn)"
   ]
  },
  {
   "cell_type": "code",
   "execution_count": 39,
   "metadata": {},
   "outputs": [],
   "source": [
    "df_plants = pd.read_sql(q_plants, conn)"
   ]
  },
  {
   "cell_type": "code",
   "execution_count": 143,
   "metadata": {},
   "outputs": [],
   "source": [
    "df = pd.read_sql(query, conn)"
   ]
  },
  {
   "cell_type": "code",
   "execution_count": 145,
   "metadata": {},
   "outputs": [],
   "source": [
    "df = df.merge(\n",
    "    df_time, on = 'time_id', how='left'\n",
    ").merge(df_sensors.drop('equipment_id', axis = 1), on = 'sensor_id', how='left'\n",
    "       ).rename(\n",
    "    {'name':'sensor_name'}, axis = 1\n",
    ").merge(df_equipments.drop('plant_id', axis = 1), on = 'equipment_id', how='left').rename(\n",
    "    {'name':'equipment_name', 'type':'equipment_type'}, axis = 1\n",
    ").merge(df_plants, on='plant_id', how='left').rename({'name':'plant_name'},axis=1)\n",
    "df.date_value = pd.to_datetime(df.date_value)"
   ]
  },
  {
   "cell_type": "code",
   "execution_count": 252,
   "metadata": {},
   "outputs": [
    {
     "data": {
      "text/html": [
       "<div>\n",
       "<style scoped>\n",
       "    .dataframe tbody tr th:only-of-type {\n",
       "        vertical-align: middle;\n",
       "    }\n",
       "\n",
       "    .dataframe tbody tr th {\n",
       "        vertical-align: top;\n",
       "    }\n",
       "\n",
       "    .dataframe thead th {\n",
       "        text-align: right;\n",
       "    }\n",
       "</style>\n",
       "<table border=\"1\" class=\"dataframe\">\n",
       "  <thead>\n",
       "    <tr style=\"text-align: right;\">\n",
       "      <th></th>\n",
       "      <th>reading_id</th>\n",
       "      <th>sensor_id</th>\n",
       "      <th>time_id</th>\n",
       "      <th>value</th>\n",
       "      <th>equipment_id</th>\n",
       "      <th>plant_id</th>\n",
       "      <th>processed_at</th>\n",
       "      <th>date_value</th>\n",
       "      <th>year</th>\n",
       "      <th>month</th>\n",
       "      <th>...</th>\n",
       "      <th>hour</th>\n",
       "      <th>sensor_name</th>\n",
       "      <th>unit</th>\n",
       "      <th>equipment_name</th>\n",
       "      <th>equipment_type</th>\n",
       "      <th>plant_name</th>\n",
       "      <th>region</th>\n",
       "      <th>latitude</th>\n",
       "      <th>longitude</th>\n",
       "      <th>mean_temp</th>\n",
       "    </tr>\n",
       "  </thead>\n",
       "  <tbody>\n",
       "    <tr>\n",
       "      <th>0</th>\n",
       "      <td>1</td>\n",
       "      <td>3000001</td>\n",
       "      <td>1672617600</td>\n",
       "      <td>1133.09</td>\n",
       "      <td>2000001</td>\n",
       "      <td>1001</td>\n",
       "      <td>1743890400</td>\n",
       "      <td>2023-01-02</td>\n",
       "      <td>2023</td>\n",
       "      <td>1</td>\n",
       "      <td>...</td>\n",
       "      <td>0</td>\n",
       "      <td>Thermocouple</td>\n",
       "      <td>Celsius</td>\n",
       "      <td>Gas turbine</td>\n",
       "      <td>Turbine</td>\n",
       "      <td>Baja Norte Plant</td>\n",
       "      <td>Northwest</td>\n",
       "      <td>32.52</td>\n",
       "      <td>-117.03</td>\n",
       "      <td>1100.447969</td>\n",
       "    </tr>\n",
       "    <tr>\n",
       "      <th>1</th>\n",
       "      <td>4</td>\n",
       "      <td>3000317</td>\n",
       "      <td>1687176000</td>\n",
       "      <td>986.02</td>\n",
       "      <td>2000114</td>\n",
       "      <td>1008</td>\n",
       "      <td>1743890400</td>\n",
       "      <td>2023-06-19</td>\n",
       "      <td>2023</td>\n",
       "      <td>6</td>\n",
       "      <td>...</td>\n",
       "      <td>12</td>\n",
       "      <td>Temperature Sensor</td>\n",
       "      <td>Celsius</td>\n",
       "      <td>Gas generator</td>\n",
       "      <td>Generator</td>\n",
       "      <td>Yucatan Power Station</td>\n",
       "      <td>Southwest</td>\n",
       "      <td>20.97</td>\n",
       "      <td>-89.62</td>\n",
       "      <td>950.383903</td>\n",
       "    </tr>\n",
       "    <tr>\n",
       "      <th>2</th>\n",
       "      <td>5</td>\n",
       "      <td>3000001</td>\n",
       "      <td>1672704000</td>\n",
       "      <td>1114.60</td>\n",
       "      <td>2000001</td>\n",
       "      <td>1001</td>\n",
       "      <td>1743890400</td>\n",
       "      <td>2023-01-03</td>\n",
       "      <td>2023</td>\n",
       "      <td>1</td>\n",
       "      <td>...</td>\n",
       "      <td>0</td>\n",
       "      <td>Thermocouple</td>\n",
       "      <td>Celsius</td>\n",
       "      <td>Gas turbine</td>\n",
       "      <td>Turbine</td>\n",
       "      <td>Baja Norte Plant</td>\n",
       "      <td>Northwest</td>\n",
       "      <td>32.52</td>\n",
       "      <td>-117.03</td>\n",
       "      <td>1100.447969</td>\n",
       "    </tr>\n",
       "    <tr>\n",
       "      <th>3</th>\n",
       "      <td>8</td>\n",
       "      <td>3000317</td>\n",
       "      <td>1687262400</td>\n",
       "      <td>1069.72</td>\n",
       "      <td>2000114</td>\n",
       "      <td>1008</td>\n",
       "      <td>1743890400</td>\n",
       "      <td>2023-06-20</td>\n",
       "      <td>2023</td>\n",
       "      <td>6</td>\n",
       "      <td>...</td>\n",
       "      <td>12</td>\n",
       "      <td>Temperature Sensor</td>\n",
       "      <td>Celsius</td>\n",
       "      <td>Gas generator</td>\n",
       "      <td>Generator</td>\n",
       "      <td>Yucatan Power Station</td>\n",
       "      <td>Southwest</td>\n",
       "      <td>20.97</td>\n",
       "      <td>-89.62</td>\n",
       "      <td>950.383903</td>\n",
       "    </tr>\n",
       "    <tr>\n",
       "      <th>4</th>\n",
       "      <td>9</td>\n",
       "      <td>3000001</td>\n",
       "      <td>1672790400</td>\n",
       "      <td>852.07</td>\n",
       "      <td>2000001</td>\n",
       "      <td>1001</td>\n",
       "      <td>1743890400</td>\n",
       "      <td>2023-01-04</td>\n",
       "      <td>2023</td>\n",
       "      <td>1</td>\n",
       "      <td>...</td>\n",
       "      <td>0</td>\n",
       "      <td>Thermocouple</td>\n",
       "      <td>Celsius</td>\n",
       "      <td>Gas turbine</td>\n",
       "      <td>Turbine</td>\n",
       "      <td>Baja Norte Plant</td>\n",
       "      <td>Northwest</td>\n",
       "      <td>32.52</td>\n",
       "      <td>-117.03</td>\n",
       "      <td>1100.447969</td>\n",
       "    </tr>\n",
       "  </tbody>\n",
       "</table>\n",
       "<p>5 rows × 21 columns</p>\n",
       "</div>"
      ],
      "text/plain": [
       "   reading_id  sensor_id     time_id    value  equipment_id  plant_id  \\\n",
       "0           1    3000001  1672617600  1133.09       2000001      1001   \n",
       "1           4    3000317  1687176000   986.02       2000114      1008   \n",
       "2           5    3000001  1672704000  1114.60       2000001      1001   \n",
       "3           8    3000317  1687262400  1069.72       2000114      1008   \n",
       "4           9    3000001  1672790400   852.07       2000001      1001   \n",
       "\n",
       "   processed_at date_value  year  month  ...  hour         sensor_name  \\\n",
       "0    1743890400 2023-01-02  2023      1  ...     0        Thermocouple   \n",
       "1    1743890400 2023-06-19  2023      6  ...    12  Temperature Sensor   \n",
       "2    1743890400 2023-01-03  2023      1  ...     0        Thermocouple   \n",
       "3    1743890400 2023-06-20  2023      6  ...    12  Temperature Sensor   \n",
       "4    1743890400 2023-01-04  2023      1  ...     0        Thermocouple   \n",
       "\n",
       "      unit equipment_name equipment_type             plant_name     region  \\\n",
       "0  Celsius    Gas turbine        Turbine       Baja Norte Plant  Northwest   \n",
       "1  Celsius  Gas generator      Generator  Yucatan Power Station  Southwest   \n",
       "2  Celsius    Gas turbine        Turbine       Baja Norte Plant  Northwest   \n",
       "3  Celsius  Gas generator      Generator  Yucatan Power Station  Southwest   \n",
       "4  Celsius    Gas turbine        Turbine       Baja Norte Plant  Northwest   \n",
       "\n",
       "  latitude  longitude    mean_temp  \n",
       "0    32.52    -117.03  1100.447969  \n",
       "1    20.97     -89.62   950.383903  \n",
       "2    32.52    -117.03  1100.447969  \n",
       "3    20.97     -89.62   950.383903  \n",
       "4    32.52    -117.03  1100.447969  \n",
       "\n",
       "[5 rows x 21 columns]"
      ]
     },
     "execution_count": 252,
     "metadata": {},
     "output_type": "execute_result"
    }
   ],
   "source": [
    "df.head()"
   ]
  },
  {
   "cell_type": "markdown",
   "metadata": {},
   "source": [
    "z-score"
   ]
  },
  {
   "cell_type": "code",
   "execution_count": 251,
   "metadata": {},
   "outputs": [],
   "source": [
    "df['mean_temp'] = df.groupby(['equipment_name','sensor_name'])['value'].transform(lambda x: x.mean())\n",
    "df['std_temp'] = df.groupby(['equipment_name','sensor_name'])['value'].transform(lambda x: x.std())"
   ]
  },
  {
   "cell_type": "code",
   "execution_count": 255,
   "metadata": {},
   "outputs": [],
   "source": [
    "df['z_score'] = (df['value'] - df['mean_temp']) / df['std_temp']"
   ]
  },
  {
   "cell_type": "code",
   "execution_count": 256,
   "metadata": {},
   "outputs": [],
   "source": [
    "# Flag anomalies (+ 3 standard deviations)\n",
    "df['anomaly'] = df['z_score'].abs() > 3"
   ]
  },
  {
   "cell_type": "code",
   "execution_count": 257,
   "metadata": {},
   "outputs": [],
   "source": [
    "df = df.drop(columns=[\"mean_temp\", \"std_temp\", \"z_score\"])"
   ]
  },
  {
   "cell_type": "code",
   "execution_count": 269,
   "metadata": {},
   "outputs": [
    {
     "data": {
      "text/html": [
       "<style  type=\"text/css\" >\n",
       "</style><table id=\"T_1cfd562e_13c0_11f0_bee3_8210514366d5\" ><thead>    <tr>        <th class=\"blank\" ></th>        <th class=\"index_name level0\" >anomaly</th>        <th class=\"col_heading level0 col0\" >False</th>        <th class=\"col_heading level0 col1\" >True</th>    </tr>    <tr>        <th class=\"index_name level0\" >equipment_name</th>        <th class=\"index_name level1\" >sensor_name</th>        <th class=\"blank\" ></th>        <th class=\"blank\" ></th>    </tr></thead><tbody>\n",
       "                <tr>\n",
       "                        <th id=\"T_1cfd562e_13c0_11f0_bee3_8210514366d5level0_row0\" class=\"row_heading level0 row0\" rowspan=2>Cooling A</th>\n",
       "                        <th id=\"T_1cfd562e_13c0_11f0_bee3_8210514366d5level1_row0\" class=\"row_heading level1 row0\" >Coolant temperature</th>\n",
       "                        <td id=\"T_1cfd562e_13c0_11f0_bee3_8210514366d5row0_col0\" class=\"data row0 col0\" >99.67%</td>\n",
       "                        <td id=\"T_1cfd562e_13c0_11f0_bee3_8210514366d5row0_col1\" class=\"data row0 col1\" >0.33%</td>\n",
       "            </tr>\n",
       "            <tr>\n",
       "                                <th id=\"T_1cfd562e_13c0_11f0_bee3_8210514366d5level1_row1\" class=\"row_heading level1 row1\" >Pressure Sensor</th>\n",
       "                        <td id=\"T_1cfd562e_13c0_11f0_bee3_8210514366d5row1_col0\" class=\"data row1 col0\" >99.72%</td>\n",
       "                        <td id=\"T_1cfd562e_13c0_11f0_bee3_8210514366d5row1_col1\" class=\"data row1 col1\" >0.28%</td>\n",
       "            </tr>\n",
       "            <tr>\n",
       "                        <th id=\"T_1cfd562e_13c0_11f0_bee3_8210514366d5level0_row2\" class=\"row_heading level0 row2\" rowspan=2>Cooling B</th>\n",
       "                        <th id=\"T_1cfd562e_13c0_11f0_bee3_8210514366d5level1_row2\" class=\"row_heading level1 row2\" >Coolant temperature</th>\n",
       "                        <td id=\"T_1cfd562e_13c0_11f0_bee3_8210514366d5row2_col0\" class=\"data row2 col0\" >99.67%</td>\n",
       "                        <td id=\"T_1cfd562e_13c0_11f0_bee3_8210514366d5row2_col1\" class=\"data row2 col1\" >0.33%</td>\n",
       "            </tr>\n",
       "            <tr>\n",
       "                                <th id=\"T_1cfd562e_13c0_11f0_bee3_8210514366d5level1_row3\" class=\"row_heading level1 row3\" >Pressure Sensor</th>\n",
       "                        <td id=\"T_1cfd562e_13c0_11f0_bee3_8210514366d5row3_col0\" class=\"data row3 col0\" >99.75%</td>\n",
       "                        <td id=\"T_1cfd562e_13c0_11f0_bee3_8210514366d5row3_col1\" class=\"data row3 col1\" >0.25%</td>\n",
       "            </tr>\n",
       "            <tr>\n",
       "                        <th id=\"T_1cfd562e_13c0_11f0_bee3_8210514366d5level0_row4\" class=\"row_heading level0 row4\" rowspan=2>Gas generator</th>\n",
       "                        <th id=\"T_1cfd562e_13c0_11f0_bee3_8210514366d5level1_row4\" class=\"row_heading level1 row4\" >Temperature Sensor</th>\n",
       "                        <td id=\"T_1cfd562e_13c0_11f0_bee3_8210514366d5row4_col0\" class=\"data row4 col0\" >99.72%</td>\n",
       "                        <td id=\"T_1cfd562e_13c0_11f0_bee3_8210514366d5row4_col1\" class=\"data row4 col1\" >0.28%</td>\n",
       "            </tr>\n",
       "            <tr>\n",
       "                                <th id=\"T_1cfd562e_13c0_11f0_bee3_8210514366d5level1_row5\" class=\"row_heading level1 row5\" >Voltage Sensor</th>\n",
       "                        <td id=\"T_1cfd562e_13c0_11f0_bee3_8210514366d5row5_col0\" class=\"data row5 col0\" >99.73%</td>\n",
       "                        <td id=\"T_1cfd562e_13c0_11f0_bee3_8210514366d5row5_col1\" class=\"data row5 col1\" >0.27%</td>\n",
       "            </tr>\n",
       "            <tr>\n",
       "                        <th id=\"T_1cfd562e_13c0_11f0_bee3_8210514366d5level0_row6\" class=\"row_heading level0 row6\" rowspan=2>Gas turbine</th>\n",
       "                        <th id=\"T_1cfd562e_13c0_11f0_bee3_8210514366d5level1_row6\" class=\"row_heading level1 row6\" >Thermocouple</th>\n",
       "                        <td id=\"T_1cfd562e_13c0_11f0_bee3_8210514366d5row6_col0\" class=\"data row6 col0\" >99.72%</td>\n",
       "                        <td id=\"T_1cfd562e_13c0_11f0_bee3_8210514366d5row6_col1\" class=\"data row6 col1\" >0.28%</td>\n",
       "            </tr>\n",
       "            <tr>\n",
       "                                <th id=\"T_1cfd562e_13c0_11f0_bee3_8210514366d5level1_row7\" class=\"row_heading level1 row7\" >Vibration Sensor</th>\n",
       "                        <td id=\"T_1cfd562e_13c0_11f0_bee3_8210514366d5row7_col0\" class=\"data row7 col0\" >98.99%</td>\n",
       "                        <td id=\"T_1cfd562e_13c0_11f0_bee3_8210514366d5row7_col1\" class=\"data row7 col1\" >1.01%</td>\n",
       "            </tr>\n",
       "            <tr>\n",
       "                        <th id=\"T_1cfd562e_13c0_11f0_bee3_8210514366d5level0_row8\" class=\"row_heading level0 row8\" rowspan=2>Heat steam generator</th>\n",
       "                        <th id=\"T_1cfd562e_13c0_11f0_bee3_8210514366d5level1_row8\" class=\"row_heading level1 row8\" >Temperature Sensor</th>\n",
       "                        <td id=\"T_1cfd562e_13c0_11f0_bee3_8210514366d5row8_col0\" class=\"data row8 col0\" >99.75%</td>\n",
       "                        <td id=\"T_1cfd562e_13c0_11f0_bee3_8210514366d5row8_col1\" class=\"data row8 col1\" >0.25%</td>\n",
       "            </tr>\n",
       "            <tr>\n",
       "                                <th id=\"T_1cfd562e_13c0_11f0_bee3_8210514366d5level1_row9\" class=\"row_heading level1 row9\" >Voltage Sensor</th>\n",
       "                        <td id=\"T_1cfd562e_13c0_11f0_bee3_8210514366d5row9_col0\" class=\"data row9 col0\" >99.77%</td>\n",
       "                        <td id=\"T_1cfd562e_13c0_11f0_bee3_8210514366d5row9_col1\" class=\"data row9 col1\" >0.23%</td>\n",
       "            </tr>\n",
       "            <tr>\n",
       "                        <th id=\"T_1cfd562e_13c0_11f0_bee3_8210514366d5level0_row10\" class=\"row_heading level0 row10\" rowspan=2>Steam turbine</th>\n",
       "                        <th id=\"T_1cfd562e_13c0_11f0_bee3_8210514366d5level1_row10\" class=\"row_heading level1 row10\" >Thermocouple</th>\n",
       "                        <td id=\"T_1cfd562e_13c0_11f0_bee3_8210514366d5row10_col0\" class=\"data row10 col0\" >99.73%</td>\n",
       "                        <td id=\"T_1cfd562e_13c0_11f0_bee3_8210514366d5row10_col1\" class=\"data row10 col1\" >0.27%</td>\n",
       "            </tr>\n",
       "            <tr>\n",
       "                                <th id=\"T_1cfd562e_13c0_11f0_bee3_8210514366d5level1_row11\" class=\"row_heading level1 row11\" >Vibration Sensor</th>\n",
       "                        <td id=\"T_1cfd562e_13c0_11f0_bee3_8210514366d5row11_col0\" class=\"data row11 col0\" >98.84%</td>\n",
       "                        <td id=\"T_1cfd562e_13c0_11f0_bee3_8210514366d5row11_col1\" class=\"data row11 col1\" >1.16%</td>\n",
       "            </tr>\n",
       "            <tr>\n",
       "                        <th id=\"T_1cfd562e_13c0_11f0_bee3_8210514366d5level0_row12\" class=\"row_heading level0 row12\" rowspan=2>Transformers A</th>\n",
       "                        <th id=\"T_1cfd562e_13c0_11f0_bee3_8210514366d5level1_row12\" class=\"row_heading level1 row12\" >Moisture Sensor</th>\n",
       "                        <td id=\"T_1cfd562e_13c0_11f0_bee3_8210514366d5row12_col0\" class=\"data row12 col0\" >99.84%</td>\n",
       "                        <td id=\"T_1cfd562e_13c0_11f0_bee3_8210514366d5row12_col1\" class=\"data row12 col1\" >0.16%</td>\n",
       "            </tr>\n",
       "            <tr>\n",
       "                                <th id=\"T_1cfd562e_13c0_11f0_bee3_8210514366d5level1_row13\" class=\"row_heading level1 row13\" >Oil Temperature Sensor</th>\n",
       "                        <td id=\"T_1cfd562e_13c0_11f0_bee3_8210514366d5row13_col0\" class=\"data row13 col0\" >99.70%</td>\n",
       "                        <td id=\"T_1cfd562e_13c0_11f0_bee3_8210514366d5row13_col1\" class=\"data row13 col1\" >0.30%</td>\n",
       "            </tr>\n",
       "    </tbody></table>"
      ],
      "text/plain": [
       "<pandas.io.formats.style.Styler at 0x7f82a2b53160>"
      ]
     },
     "execution_count": 269,
     "metadata": {},
     "output_type": "execute_result"
    }
   ],
   "source": [
    "df.groupby(['equipment_name','sensor_name']).anomaly.value_counts(1).unstack().style.format('{:.2%}')"
   ]
  },
  {
   "cell_type": "markdown",
   "metadata": {},
   "source": [
    "---"
   ]
  },
  {
   "cell_type": "code",
   "execution_count": null,
   "metadata": {},
   "outputs": [],
   "source": []
  },
  {
   "cell_type": "code",
   "execution_count": null,
   "metadata": {},
   "outputs": [],
   "source": []
  }
 ],
 "metadata": {
  "kernelspec": {
   "display_name": "Python 3 (ipykernel)",
   "language": "python",
   "name": "python3"
  },
  "language_info": {
   "codemirror_mode": {
    "name": "ipython",
    "version": 3
   },
   "file_extension": ".py",
   "mimetype": "text/x-python",
   "name": "python",
   "nbconvert_exporter": "python",
   "pygments_lexer": "ipython3",
   "version": "3.8.5"
  }
 },
 "nbformat": 4,
 "nbformat_minor": 4
}
