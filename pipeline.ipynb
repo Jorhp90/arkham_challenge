{
 "cells": [
  {
   "cell_type": "code",
   "execution_count": 1,
   "id": "f2e0a635-3d9a-48f9-9326-4f57755ab7fd",
   "metadata": {
    "execution": {
     "iopub.execute_input": "2025-04-07T13:33:05.645618Z",
     "iopub.status.busy": "2025-04-07T13:33:05.645263Z",
     "iopub.status.idle": "2025-04-07T13:33:29.211985Z",
     "shell.execute_reply": "2025-04-07T13:33:29.211283Z",
     "shell.execute_reply.started": "2025-04-07T13:33:05.645587Z"
    },
    "tags": []
   },
   "outputs": [
    {
     "data": {
      "application/vnd.jupyter.widget-view+json": {
       "model_id": "938aec38cfd74695a06d0abb1201540c",
       "version_major": 2,
       "version_minor": 0
      },
      "text/plain": [
       "VBox()"
      ]
     },
     "metadata": {},
     "output_type": "display_data"
    },
    {
     "name": "stdout",
     "output_type": "stream",
     "text": [
      "Starting Spark application\n"
     ]
    },
    {
     "data": {
      "text/html": [
       "<table>\n<tbody><tr><th>ID</th><th>YARN Application ID</th><th>Kind</th><th>State</th><th>Spark UI</th><th>Driver log</th><th>User</th><th>Current session?</th></tr><tr><td>11</td><td>application_1743716166877_0012</td><td>pyspark</td><td>idle</td><td><a target=\"_blank\" href=\"http://ip-10-0-23-122.us-west-1.compute.internal:20888/proxy/application_1743716166877_0012/\" class=\"emr-proxy-link j-1HKG2ZVR2EZPA application_1743716166877_0012\" emr-resource=\"j-1HKG2ZVR2EZPA\n\" application-id=\"application_1743716166877_0012\">Link</a></td><td><a target=\"_blank\" href=\"http://ip-10-0-28-31.us-west-1.compute.internal:8042/node/containerlogs/container_1743716166877_0012_01_000001/livy\">Link</a></td><td>None</td><td>✔</td></tr></tbody></table>"
      ],
      "text/plain": [
       "<IPython.core.display.HTML object>"
      ]
     },
     "metadata": {},
     "output_type": "display_data"
    },
    {
     "data": {
      "application/vnd.jupyter.widget-view+json": {
       "model_id": "",
       "version_major": 2,
       "version_minor": 0
      },
      "text/plain": [
       "FloatProgress(value=0.0, bar_style='info', description='Progress:', layout=Layout(height='25px', width='50%'),…"
      ]
     },
     "metadata": {},
     "output_type": "display_data"
    },
    {
     "name": "stdout",
     "output_type": "stream",
     "text": [
      "SparkSession available as 'spark'.\n"
     ]
    },
    {
     "data": {
      "application/vnd.jupyter.widget-view+json": {
       "model_id": "",
       "version_major": 2,
       "version_minor": 0
      },
      "text/plain": [
       "FloatProgress(value=0.0, bar_style='info', description='Progress:', layout=Layout(height='25px', width='50%'),…"
      ]
     },
     "metadata": {},
     "output_type": "display_data"
    }
   ],
   "source": [
    "from pyspark.sql import SparkSession\n",
    "from pyspark.sql.functions import col, unix_timestamp, current_timestamp, expr, date_trunc, when\n",
    "import os\n",
    "\n",
    "from datetime import datetime"
   ]
  },
  {
   "cell_type": "markdown",
   "id": "bacc09c5-9015-4ca8-a639-da23a2330b9f",
   "metadata": {},
   "source": [
    "**move csv from landing to extract zone**"
   ]
  },
  {
   "cell_type": "code",
   "execution_count": 2,
   "id": "b5efda47-3672-4e57-b0ae-1e675b2f3423",
   "metadata": {
    "execution": {
     "iopub.execute_input": "2025-04-07T13:33:47.379753Z",
     "iopub.status.busy": "2025-04-07T13:33:47.379535Z",
     "iopub.status.idle": "2025-04-07T13:33:49.643194Z",
     "shell.execute_reply": "2025-04-07T13:33:49.642537Z",
     "shell.execute_reply.started": "2025-04-07T13:33:47.379729Z"
    },
    "tags": []
   },
   "outputs": [
    {
     "data": {
      "application/vnd.jupyter.widget-view+json": {
       "model_id": "68472fbe2f04428fb3b15f7da9c4c27f",
       "version_major": 2,
       "version_minor": 0
      },
      "text/plain": [
       "VBox()"
      ]
     },
     "metadata": {},
     "output_type": "display_data"
    },
    {
     "data": {
      "application/vnd.jupyter.widget-view+json": {
       "model_id": "",
       "version_major": 2,
       "version_minor": 0
      },
      "text/plain": [
       "FloatProgress(value=0.0, bar_style='info', description='Progress:', layout=Layout(height='25px', width='50%'),…"
      ]
     },
     "metadata": {},
     "output_type": "display_data"
    },
    {
     "name": "stderr",
     "output_type": "stream",
     "text": [
      "An error was encountered:\n",
      "Unrecognized token 'Completed': was expecting (JSON String, Number, Array, Object or token 'null', 'true' or 'false')\n",
      " at [Source: (String)\"Completed 1.9 MiB/1.9 MiB (9.3 MiB/s) with 1 file(s) remaining\"; line: 1, column: 10]\n",
      "\n"
     ]
    }
   ],
   "source": [
    "os.system(\n",
    "    \"aws s3 mv s3://00-arkham-challenge/fact_tables/sensor_readings/sensor_readings_2024_q1.csv s3://00-arkham-challenge/raw-zone-jagc/fact_tables/\"\n",
    ")"
   ]
  },
  {
   "cell_type": "code",
   "execution_count": null,
   "id": "d601341c-8c90-4472-a177-1f95688f8043",
   "metadata": {},
   "outputs": [],
   "source": []
  },
  {
   "cell_type": "code",
   "execution_count": 3,
   "id": "63c1aee2-b84c-40de-81b4-8469d2bd653a",
   "metadata": {
    "execution": {
     "iopub.execute_input": "2025-04-07T13:34:15.047447Z",
     "iopub.status.busy": "2025-04-07T13:34:15.047193Z",
     "iopub.status.idle": "2025-04-07T13:34:15.087146Z",
     "shell.execute_reply": "2025-04-07T13:34:15.086559Z",
     "shell.execute_reply.started": "2025-04-07T13:34:15.047419Z"
    },
    "tags": []
   },
   "outputs": [
    {
     "data": {
      "application/vnd.jupyter.widget-view+json": {
       "model_id": "b93fe9589d12460b9809aa918601fe4e",
       "version_major": 2,
       "version_minor": 0
      },
      "text/plain": [
       "VBox()"
      ]
     },
     "metadata": {},
     "output_type": "display_data"
    },
    {
     "data": {
      "application/vnd.jupyter.widget-view+json": {
       "model_id": "",
       "version_major": 2,
       "version_minor": 0
      },
      "text/plain": [
       "FloatProgress(value=0.0, bar_style='info', description='Progress:', layout=Layout(height='25px', width='50%'),…"
      ]
     },
     "metadata": {},
     "output_type": "display_data"
    },
    {
     "name": "stdout",
     "output_type": "stream",
     "text": [
      "0"
     ]
    }
   ],
   "source": [
    "# Read raw CSV file from S3\n",
    "path = 's3://00-arkham-challenge/raw-zone-jagc/fact_tables/sensor_readings_2024_q1.csv'\n",
    "sensor_readings = spark.read.csv(path, header=True, inferSchema=True)"
   ]
  },
  {
   "cell_type": "code",
   "execution_count": 5,
   "id": "1925140c-8e33-4617-8817-c7ec2bfde4d9",
   "metadata": {
    "execution": {
     "iopub.execute_input": "2025-04-07T13:34:28.190474Z",
     "iopub.status.busy": "2025-04-07T13:34:28.190255Z",
     "iopub.status.idle": "2025-04-07T13:34:28.240117Z",
     "shell.execute_reply": "2025-04-07T13:34:28.239158Z",
     "shell.execute_reply.started": "2025-04-07T13:34:28.190451Z"
    },
    "tags": []
   },
   "outputs": [
    {
     "data": {
      "application/vnd.jupyter.widget-view+json": {
       "model_id": "4cffc0b1863a443aad5c5dc4804ffa51",
       "version_major": 2,
       "version_minor": 0
      },
      "text/plain": [
       "VBox()"
      ]
     },
     "metadata": {},
     "output_type": "display_data"
    },
    {
     "data": {
      "application/vnd.jupyter.widget-view+json": {
       "model_id": "",
       "version_major": 2,
       "version_minor": 0
      },
      "text/plain": [
       "FloatProgress(value=0.0, bar_style='info', description='Progress:', layout=Layout(height='25px', width='50%'),…"
      ]
     },
     "metadata": {},
     "output_type": "display_data"
    },
    {
     "name": "stdout",
     "output_type": "stream",
     "text": [
      "root\n",
      " |-- timestamp: timestamp (nullable = true)\n",
      " |-- sensor_id: integer (nullable = true)\n",
      " |-- value: double (nullable = true)\n",
      "\n",
      "None 56940"
     ]
    }
   ],
   "source": [
    "print(sensor_readings.printSchema(), sensor_readings.count())"
   ]
  },
  {
   "cell_type": "markdown",
   "id": "d7a33a1c-7f83-4563-bf5c-fab1368a5cf3",
   "metadata": {},
   "source": [
    "**import dim tables**"
   ]
  },
  {
   "cell_type": "code",
   "execution_count": 13,
   "id": "8f783884-9d14-4d4d-9d9d-564d17fae0c9",
   "metadata": {
    "execution": {
     "iopub.execute_input": "2025-04-07T13:38:07.733468Z",
     "iopub.status.busy": "2025-04-07T13:38:07.733224Z",
     "iopub.status.idle": "2025-04-07T13:38:07.775460Z",
     "shell.execute_reply": "2025-04-07T13:38:07.774880Z",
     "shell.execute_reply.started": "2025-04-07T13:38:07.733428Z"
    },
    "tags": []
   },
   "outputs": [
    {
     "data": {
      "application/vnd.jupyter.widget-view+json": {
       "model_id": "502e2d5466c443e788aeb488a6c3b385",
       "version_major": 2,
       "version_minor": 0
      },
      "text/plain": [
       "VBox()"
      ]
     },
     "metadata": {},
     "output_type": "display_data"
    },
    {
     "data": {
      "application/vnd.jupyter.widget-view+json": {
       "model_id": "",
       "version_major": 2,
       "version_minor": 0
      },
      "text/plain": [
       "FloatProgress(value=0.0, bar_style='info', description='Progress:', layout=Layout(height='25px', width='50%'),…"
      ]
     },
     "metadata": {},
     "output_type": "display_data"
    },
    {
     "name": "stderr",
     "output_type": "stream",
     "text": [
      "An error was encountered:\n",
      "name 'plants' is not defined\n",
      "Traceback (most recent call last):\n",
      "NameError: name 'plants' is not defined\n",
      "\n"
     ]
    }
   ],
   "source": [
    "path = 's3://00-arkham-challenge/transform-zone-jagc/sensors/'\n",
    "sensors = spark.read.parquet(path, header=True, inferSchema=True)\n",
    "\n",
    "path = 's3://00-arkham-challenge/transform-zone-jagc/equipments/'\n",
    "equipments = spark.read.parquet(path, header=True, inferSchema=True)\n",
    "\n",
    "path = 's3://00-arkham-challenge/transform-zone-jag/plants/'\n",
    "plants = spark.read.parquet(path, header=True, inferSchema=True)\n",
    "\n",
    "path = 's3://00-arkham-challenge/transform-zone-jagc/time/'\n",
    "time = spark.read.parquet(path, header=True, inferSchema=True)"
   ]
  },
  {
   "cell_type": "code",
   "execution_count": 15,
   "id": "21db0b79-7b0e-47a3-9513-281b60bf4fc3",
   "metadata": {
    "execution": {
     "iopub.execute_input": "2025-04-07T13:38:16.663286Z",
     "iopub.status.busy": "2025-04-07T13:38:16.663058Z",
     "iopub.status.idle": "2025-04-07T13:38:16.705570Z",
     "shell.execute_reply": "2025-04-07T13:38:16.704895Z",
     "shell.execute_reply.started": "2025-04-07T13:38:16.663262Z"
    },
    "tags": []
   },
   "outputs": [
    {
     "data": {
      "application/vnd.jupyter.widget-view+json": {
       "model_id": "d62c152e86a0406f8279ca91800c89b0",
       "version_major": 2,
       "version_minor": 0
      },
      "text/plain": [
       "VBox()"
      ]
     },
     "metadata": {},
     "output_type": "display_data"
    },
    {
     "data": {
      "application/vnd.jupyter.widget-view+json": {
       "model_id": "",
       "version_major": 2,
       "version_minor": 0
      },
      "text/plain": [
       "FloatProgress(value=0.0, bar_style='info', description='Progress:', layout=Layout(height='25px', width='50%'),…"
      ]
     },
     "metadata": {},
     "output_type": "display_data"
    },
    {
     "name": "stdout",
     "output_type": "stream",
     "text": [
      "root\n",
      " |-- sensor_id: integer (nullable = true)\n",
      " |-- name: string (nullable = true)\n",
      " |-- unit: string (nullable = true)\n",
      " |-- equipment_id: integer (nullable = true)\n",
      "\n",
      "None 438\n",
      "+---------+------------+-------+------------+\n",
      "|sensor_id|        name|   unit|equipment_id|\n",
      "+---------+------------+-------+------------+\n",
      "|  3000001|Thermocouple|Celsius|     2000001|\n",
      "|  3000002|Thermocouple|Celsius|     2000002|\n",
      "|  3000003|Thermocouple|Celsius|     2000003|\n",
      "|  3000004|Thermocouple|Celsius|     2000004|\n",
      "|  3000005|Thermocouple|Celsius|     2000005|\n",
      "+---------+------------+-------+------------+\n",
      "only showing top 5 rows"
     ]
    }
   ],
   "source": [
    "print(sensors.printSchema(), sensors.count())\n",
    "sensors.show(5)"
   ]
  },
  {
   "cell_type": "code",
   "execution_count": 16,
   "id": "3410d0a8-e636-4a64-84ff-917afe257260",
   "metadata": {
    "execution": {
     "iopub.execute_input": "2025-04-07T13:38:18.203932Z",
     "iopub.status.busy": "2025-04-07T13:38:18.203358Z",
     "iopub.status.idle": "2025-04-07T13:38:18.360370Z",
     "shell.execute_reply": "2025-04-07T13:38:18.359802Z",
     "shell.execute_reply.started": "2025-04-07T13:38:18.203907Z"
    },
    "tags": []
   },
   "outputs": [
    {
     "data": {
      "application/vnd.jupyter.widget-view+json": {
       "model_id": "ae67b6d70856438581cc77a1d29d14a3",
       "version_major": 2,
       "version_minor": 0
      },
      "text/plain": [
       "VBox()"
      ]
     },
     "metadata": {},
     "output_type": "display_data"
    },
    {
     "data": {
      "application/vnd.jupyter.widget-view+json": {
       "model_id": "",
       "version_major": 2,
       "version_minor": 0
      },
      "text/plain": [
       "FloatProgress(value=0.0, bar_style='info', description='Progress:', layout=Layout(height='25px', width='50%'),…"
      ]
     },
     "metadata": {},
     "output_type": "display_data"
    },
    {
     "name": "stdout",
     "output_type": "stream",
     "text": [
      "root\n",
      " |-- sensor_id: integer (nullable = true)\n",
      " |-- name: string (nullable = true)\n",
      " |-- unit: string (nullable = true)\n",
      " |-- equipment_id: integer (nullable = true)\n",
      "\n",
      "None 438\n",
      "+---------+------------+-------+------------+\n",
      "|sensor_id|        name|   unit|equipment_id|\n",
      "+---------+------------+-------+------------+\n",
      "|  3000001|Thermocouple|Celsius|     2000001|\n",
      "|  3000002|Thermocouple|Celsius|     2000002|\n",
      "|  3000003|Thermocouple|Celsius|     2000003|\n",
      "|  3000004|Thermocouple|Celsius|     2000004|\n",
      "|  3000005|Thermocouple|Celsius|     2000005|\n",
      "+---------+------------+-------+------------+\n",
      "only showing top 5 rows"
     ]
    }
   ],
   "source": [
    "print(equipments.printSchema(), equipments.count())\n",
    "equipments.show(5)"
   ]
  },
  {
   "cell_type": "code",
   "execution_count": 17,
   "id": "cda0ec7c-be37-4681-bb5c-a582ce1f5c4f",
   "metadata": {
    "execution": {
     "iopub.execute_input": "2025-04-07T13:38:20.637144Z",
     "iopub.status.busy": "2025-04-07T13:38:20.636953Z",
     "iopub.status.idle": "2025-04-07T13:38:20.894820Z",
     "shell.execute_reply": "2025-04-07T13:38:20.894089Z",
     "shell.execute_reply.started": "2025-04-07T13:38:20.637120Z"
    },
    "tags": []
   },
   "outputs": [
    {
     "data": {
      "application/vnd.jupyter.widget-view+json": {
       "model_id": "cb419cd9e224474a8d6abc82ae0d890a",
       "version_major": 2,
       "version_minor": 0
      },
      "text/plain": [
       "VBox()"
      ]
     },
     "metadata": {},
     "output_type": "display_data"
    },
    {
     "data": {
      "application/vnd.jupyter.widget-view+json": {
       "model_id": "",
       "version_major": 2,
       "version_minor": 0
      },
      "text/plain": [
       "FloatProgress(value=0.0, bar_style='info', description='Progress:', layout=Layout(height='25px', width='50%'),…"
      ]
     },
     "metadata": {},
     "output_type": "display_data"
    },
    {
     "name": "stdout",
     "output_type": "stream",
     "text": [
      "root\n",
      " |-- equipment_id: integer (nullable = true)\n",
      " |-- name: string (nullable = true)\n",
      " |-- type: string (nullable = true)\n",
      " |-- plant_id: integer (nullable = true)\n",
      "\n",
      "None 161\n",
      "+------------+-----------+-------+--------+\n",
      "|equipment_id|       name|   type|plant_id|\n",
      "+------------+-----------+-------+--------+\n",
      "|     2000001|Gas turbine|Turbine|    1001|\n",
      "|     2000002|Gas turbine|Turbine|    1001|\n",
      "|     2000003|Gas turbine|Turbine|    1001|\n",
      "|     2000004|Gas turbine|Turbine|    1002|\n",
      "|     2000005|Gas turbine|Turbine|    1002|\n",
      "+------------+-----------+-------+--------+\n",
      "only showing top 5 rows"
     ]
    }
   ],
   "source": [
    "print(plants.printSchema(), plants.count())\n",
    "plants.show(5)"
   ]
  },
  {
   "cell_type": "code",
   "execution_count": 30,
   "id": "d5814d7e-179a-4e6f-bc90-efcf6c02e73b",
   "metadata": {
    "execution": {
     "iopub.execute_input": "2025-04-07T13:40:33.113791Z",
     "iopub.status.busy": "2025-04-07T13:40:33.113550Z",
     "iopub.status.idle": "2025-04-07T13:40:33.152823Z",
     "shell.execute_reply": "2025-04-07T13:40:33.152239Z",
     "shell.execute_reply.started": "2025-04-07T13:40:33.113759Z"
    },
    "tags": []
   },
   "outputs": [
    {
     "data": {
      "application/vnd.jupyter.widget-view+json": {
       "model_id": "22798188452a4fa09e48e0ce2214f96d",
       "version_major": 2,
       "version_minor": 0
      },
      "text/plain": [
       "VBox()"
      ]
     },
     "metadata": {},
     "output_type": "display_data"
    },
    {
     "data": {
      "application/vnd.jupyter.widget-view+json": {
       "model_id": "",
       "version_major": 2,
       "version_minor": 0
      },
      "text/plain": [
       "FloatProgress(value=0.0, bar_style='info', description='Progress:', layout=Layout(height='25px', width='50%'),…"
      ]
     },
     "metadata": {},
     "output_type": "display_data"
    },
    {
     "name": "stdout",
     "output_type": "stream",
     "text": [
      "root\n",
      " |-- date_value: date (nullable = true)\n",
      " |-- time_id: long (nullable = true)\n",
      " |-- year: integer (nullable = true)\n",
      " |-- month: integer (nullable = true)\n",
      " |-- day: integer (nullable = true)\n",
      " |-- hour: long (nullable = true)\n",
      "\n",
      "None 96432\n",
      "+----------+----------+----+-----+---+----+\n",
      "|date_value|   time_id|year|month|day|hour|\n",
      "+----------+----------+----+-----+---+----+\n",
      "|2020-01-01|1577880000|2020|    1|  1|  12|\n",
      "|2020-01-02|1577966400|2020|    1|  2|  12|\n",
      "|2020-01-03|1578052800|2020|    1|  3|  12|\n",
      "|2020-01-04|1578139200|2020|    1|  4|  12|\n",
      "|2020-01-05|1578225600|2020|    1|  5|  12|\n",
      "+----------+----------+----+-----+---+----+\n",
      "only showing top 5 rows"
     ]
    }
   ],
   "source": [
    "print(time.printSchema(), time.count())\n",
    "time.show(5)"
   ]
  },
  {
   "cell_type": "markdown",
   "id": "a29b9dbe-f0a5-4ddc-88ca-16b0e86a9fbc",
   "metadata": {},
   "source": [
    "**transformations**"
   ]
  },
  {
   "cell_type": "code",
   "execution_count": 35,
   "id": "844b32f1-64b1-427e-9d43-be5396943b6f",
   "metadata": {
    "execution": {
     "iopub.execute_input": "2025-04-07T13:41:09.045071Z",
     "iopub.status.busy": "2025-04-07T13:41:09.044812Z",
     "iopub.status.idle": "2025-04-07T13:41:09.085987Z",
     "shell.execute_reply": "2025-04-07T13:41:09.085190Z",
     "shell.execute_reply.started": "2025-04-07T13:41:09.045046Z"
    },
    "tags": []
   },
   "outputs": [
    {
     "data": {
      "application/vnd.jupyter.widget-view+json": {
       "model_id": "2bfd57b30917463d9291544cd704981f",
       "version_major": 2,
       "version_minor": 0
      },
      "text/plain": [
       "VBox()"
      ]
     },
     "metadata": {},
     "output_type": "display_data"
    },
    {
     "data": {
      "application/vnd.jupyter.widget-view+json": {
       "model_id": "",
       "version_major": 2,
       "version_minor": 0
      },
      "text/plain": [
       "FloatProgress(value=0.0, bar_style='info', description='Progress:', layout=Layout(height='25px', width='50%'),…"
      ]
     },
     "metadata": {},
     "output_type": "display_data"
    }
   ],
   "source": [
    "# Join sensor_readings with sensors: df1\n",
    "df1 = sensor_readings.join(\n",
    "    sensors.select('sensor_id', 'equipment_id'), \n",
    "    on = 'sensor_id',\n",
    "    how=\"inner\")"
   ]
  },
  {
   "cell_type": "code",
   "execution_count": 37,
   "id": "1bf05fe2-758b-466d-b2f6-75d1438179d3",
   "metadata": {
    "execution": {
     "iopub.execute_input": "2025-04-07T13:41:11.330850Z",
     "iopub.status.busy": "2025-04-07T13:41:11.330498Z",
     "iopub.status.idle": "2025-04-07T13:41:11.373951Z",
     "shell.execute_reply": "2025-04-07T13:41:11.373267Z",
     "shell.execute_reply.started": "2025-04-07T13:41:11.330807Z"
    },
    "tags": []
   },
   "outputs": [
    {
     "data": {
      "application/vnd.jupyter.widget-view+json": {
       "model_id": "2472e84971b848108794ba050b6d009b",
       "version_major": 2,
       "version_minor": 0
      },
      "text/plain": [
       "VBox()"
      ]
     },
     "metadata": {},
     "output_type": "display_data"
    },
    {
     "data": {
      "application/vnd.jupyter.widget-view+json": {
       "model_id": "",
       "version_major": 2,
       "version_minor": 0
      },
      "text/plain": [
       "FloatProgress(value=0.0, bar_style='info', description='Progress:', layout=Layout(height='25px', width='50%'),…"
      ]
     },
     "metadata": {},
     "output_type": "display_data"
    },
    {
     "name": "stdout",
     "output_type": "stream",
     "text": [
      "(56940, 56940, 0)"
     ]
    }
   ],
   "source": [
    "(sensor_readings.count(), \n",
    "df1.count(), \n",
    "df1.filter(df1.equipment_id.isNull()).count())"
   ]
  },
  {
   "cell_type": "code",
   "execution_count": 39,
   "id": "7e03e466-4ed7-44d7-b5ab-ac1ec95d5b0f",
   "metadata": {
    "execution": {
     "iopub.execute_input": "2025-04-07T13:41:15.064353Z",
     "iopub.status.busy": "2025-04-07T13:41:15.064141Z",
     "iopub.status.idle": "2025-04-07T13:41:15.108168Z",
     "shell.execute_reply": "2025-04-07T13:41:15.107418Z",
     "shell.execute_reply.started": "2025-04-07T13:41:15.064329Z"
    },
    "tags": []
   },
   "outputs": [
    {
     "data": {
      "application/vnd.jupyter.widget-view+json": {
       "model_id": "618d6d39fc274c9ea31d2b0998df348b",
       "version_major": 2,
       "version_minor": 0
      },
      "text/plain": [
       "VBox()"
      ]
     },
     "metadata": {},
     "output_type": "display_data"
    },
    {
     "data": {
      "application/vnd.jupyter.widget-view+json": {
       "model_id": "",
       "version_major": 2,
       "version_minor": 0
      },
      "text/plain": [
       "FloatProgress(value=0.0, bar_style='info', description='Progress:', layout=Layout(height='25px', width='50%'),…"
      ]
     },
     "metadata": {},
     "output_type": "display_data"
    },
    {
     "name": "stdout",
     "output_type": "stream",
     "text": [
      "+---------+-------------------+-------+------------+\n",
      "|sensor_id|          timestamp|  value|equipment_id|\n",
      "+---------+-------------------+-------+------------+\n",
      "|  3000001|2024-01-01 00:00:00|1050.94|     2000001|\n",
      "|  3000001|2024-01-01 12:00:00|1026.39|     2000001|\n",
      "|  3000001|2024-01-02 00:00:00|1129.72|     2000001|\n",
      "+---------+-------------------+-------+------------+\n",
      "only showing top 3 rows"
     ]
    }
   ],
   "source": [
    "df1.show(3)"
   ]
  },
  {
   "cell_type": "code",
   "execution_count": 40,
   "id": "2655fb33-2afe-4270-ac89-43758277db2a",
   "metadata": {
    "execution": {
     "iopub.execute_input": "2025-04-07T13:41:31.351829Z",
     "iopub.status.busy": "2025-04-07T13:41:31.351604Z",
     "iopub.status.idle": "2025-04-07T13:41:31.392220Z",
     "shell.execute_reply": "2025-04-07T13:41:31.391486Z",
     "shell.execute_reply.started": "2025-04-07T13:41:31.351805Z"
    },
    "tags": []
   },
   "outputs": [
    {
     "data": {
      "application/vnd.jupyter.widget-view+json": {
       "model_id": "be6b1e7f2321441fa8bc095b03a2e67b",
       "version_major": 2,
       "version_minor": 0
      },
      "text/plain": [
       "VBox()"
      ]
     },
     "metadata": {},
     "output_type": "display_data"
    },
    {
     "data": {
      "application/vnd.jupyter.widget-view+json": {
       "model_id": "",
       "version_major": 2,
       "version_minor": 0
      },
      "text/plain": [
       "FloatProgress(value=0.0, bar_style='info', description='Progress:', layout=Layout(height='25px', width='50%'),…"
      ]
     },
     "metadata": {},
     "output_type": "display_data"
    },
    {
     "name": "stdout",
     "output_type": "stream",
     "text": [
      "+---------+-------------------+-------+------------+\n",
      "|sensor_id|          timestamp|  value|equipment_id|\n",
      "+---------+-------------------+-------+------------+\n",
      "|  3000001|2024-01-01 00:00:00|1050.94|     2000001|\n",
      "|  3000001|2024-01-01 12:00:00|1026.39|     2000001|\n",
      "|  3000001|2024-01-02 00:00:00|1129.72|     2000001|\n",
      "+---------+-------------------+-------+------------+\n",
      "only showing top 3 rows"
     ]
    }
   ],
   "source": [
    "# join df1 with equipments: df2\n",
    "df2 = df1.join(\n",
    "    equipments.select('equipment_id', 'plant_id'),\n",
    "    on = 'equipment_id',\n",
    "    how=\"inner\")"
   ]
  },
  {
   "cell_type": "code",
   "execution_count": 42,
   "id": "84271654-9a3c-4329-9c2c-f7723220e537",
   "metadata": {
    "execution": {
     "iopub.execute_input": "2025-04-07T13:41:34.761920Z",
     "iopub.status.busy": "2025-04-07T13:41:34.761699Z",
     "iopub.status.idle": "2025-04-07T13:41:35.512986Z",
     "shell.execute_reply": "2025-04-07T13:41:35.512253Z",
     "shell.execute_reply.started": "2025-04-07T13:41:34.761896Z"
    },
    "tags": []
   },
   "outputs": [
    {
     "data": {
      "application/vnd.jupyter.widget-view+json": {
       "model_id": "c18aae74222146e0a8824c761b6ce7d7",
       "version_major": 2,
       "version_minor": 0
      },
      "text/plain": [
       "VBox()"
      ]
     },
     "metadata": {},
     "output_type": "display_data"
    },
    {
     "data": {
      "application/vnd.jupyter.widget-view+json": {
       "model_id": "",
       "version_major": 2,
       "version_minor": 0
      },
      "text/plain": [
       "FloatProgress(value=0.0, bar_style='info', description='Progress:', layout=Layout(height='25px', width='50%'),…"
      ]
     },
     "metadata": {},
     "output_type": "display_data"
    },
    {
     "name": "stdout",
     "output_type": "stream",
     "text": [
      "(56940, 56940, 0)"
     ]
    }
   ],
   "source": [
    "(df1.count(), \n",
    " df2.count(), \n",
    " df2.filter(df2.plant_id.isNull()).count())"
   ]
  },
  {
   "cell_type": "code",
   "execution_count": 43,
   "id": "e88ab4ae-0c54-44f5-948d-244bc2f04cb5",
   "metadata": {
    "execution": {
     "iopub.execute_input": "2025-04-07T13:41:44.044058Z",
     "iopub.status.busy": "2025-04-07T13:41:44.043827Z",
     "iopub.status.idle": "2025-04-07T13:41:44.088734Z",
     "shell.execute_reply": "2025-04-07T13:41:44.088015Z",
     "shell.execute_reply.started": "2025-04-07T13:41:44.044033Z"
    },
    "tags": []
   },
   "outputs": [
    {
     "data": {
      "application/vnd.jupyter.widget-view+json": {
       "model_id": "34e2b0c322c54cb396e872b1a46dfe9b",
       "version_major": 2,
       "version_minor": 0
      },
      "text/plain": [
       "VBox()"
      ]
     },
     "metadata": {},
     "output_type": "display_data"
    },
    {
     "data": {
      "application/vnd.jupyter.widget-view+json": {
       "model_id": "",
       "version_major": 2,
       "version_minor": 0
      },
      "text/plain": [
       "FloatProgress(value=0.0, bar_style='info', description='Progress:', layout=Layout(height='25px', width='50%'),…"
      ]
     },
     "metadata": {},
     "output_type": "display_data"
    },
    {
     "name": "stdout",
     "output_type": "stream",
     "text": [
      "(56940, 56940, 0)"
     ]
    }
   ],
   "source": [
    "# reading date as Epoch\n",
    "df2 = df2.withColumn(\"time_id\", unix_timestamp(date_trunc(\"hour\", col(\"timestamp\"))))\n",
    "# processed at timestamp as Epoch\n",
    "df2 = df2.withColumn(\"processed_at\", unix_timestamp(date_trunc(\"hour\", current_timestamp())))"
   ]
  },
  {
   "cell_type": "code",
   "execution_count": 45,
   "id": "7b543ff9-a859-4dd0-9a16-691569059bcd",
   "metadata": {
    "execution": {
     "iopub.execute_input": "2025-04-07T13:41:45.877477Z",
     "iopub.status.busy": "2025-04-07T13:41:45.877252Z",
     "iopub.status.idle": "2025-04-07T13:41:45.920335Z",
     "shell.execute_reply": "2025-04-07T13:41:45.919631Z",
     "shell.execute_reply.started": "2025-04-07T13:41:45.877453Z"
    },
    "tags": []
   },
   "outputs": [
    {
     "data": {
      "application/vnd.jupyter.widget-view+json": {
       "model_id": "daf5a08ab6134747a5592aeffd975603",
       "version_major": 2,
       "version_minor": 0
      },
      "text/plain": [
       "VBox()"
      ]
     },
     "metadata": {},
     "output_type": "display_data"
    },
    {
     "data": {
      "application/vnd.jupyter.widget-view+json": {
       "model_id": "",
       "version_major": 2,
       "version_minor": 0
      },
      "text/plain": [
       "FloatProgress(value=0.0, bar_style='info', description='Progress:', layout=Layout(height='25px', width='50%'),…"
      ]
     },
     "metadata": {},
     "output_type": "display_data"
    },
    {
     "name": "stdout",
     "output_type": "stream",
     "text": [
      "+---------+----------+-------+------------+--------+------------+\n",
      "|sensor_id|   time_id|  value|equipment_id|plant_id|processed_at|\n",
      "+---------+----------+-------+------------+--------+------------+\n",
      "|  3000001|1704067200|1050.94|     2000001|    1001|  1744030800|\n",
      "|  3000001|1704110400|1026.39|     2000001|    1001|  1744030800|\n",
      "|  3000001|1704153600|1129.72|     2000001|    1001|  1744030800|\n",
      "|  3000001|1704196800|1258.36|     2000001|    1001|  1744030800|\n",
      "|  3000001|1704240000|  985.0|     2000001|    1001|  1744030800|\n",
      "+---------+----------+-------+------------+--------+------------+\n",
      "only showing top 5 rows"
     ]
    }
   ],
   "source": [
    "df2.select('sensor_id','time_id', 'value', 'equipment_id', 'plant_id', 'processed_at').show(5)"
   ]
  },
  {
   "cell_type": "markdown",
   "id": "1bb3df6a-c269-4200-a7c1-deed2cdba2ad",
   "metadata": {},
   "source": [
    "**load**"
   ]
  },
  {
   "cell_type": "code",
   "execution_count": 49,
   "id": "b10b481a-7b4b-49b1-b6e7-7c45b20005a8",
   "metadata": {
    "execution": {
     "iopub.execute_input": "2025-04-07T13:43:20.389620Z",
     "iopub.status.busy": "2025-04-07T13:43:20.389149Z",
     "iopub.status.idle": "2025-04-07T13:43:20.443756Z",
     "shell.execute_reply": "2025-04-07T13:43:20.442976Z",
     "shell.execute_reply.started": "2025-04-07T13:43:20.389572Z"
    },
    "tags": []
   },
   "outputs": [
    {
     "data": {
      "application/vnd.jupyter.widget-view+json": {
       "model_id": "3ada4fb3410e45e28ec16dc9b89b7ccd",
       "version_major": 2,
       "version_minor": 0
      },
      "text/plain": [
       "VBox()"
      ]
     },
     "metadata": {},
     "output_type": "display_data"
    },
    {
     "data": {
      "application/vnd.jupyter.widget-view+json": {
       "model_id": "",
       "version_major": 2,
       "version_minor": 0
      },
      "text/plain": [
       "FloatProgress(value=0.0, bar_style='info', description='Progress:', layout=Layout(height='25px', width='50%'),…"
      ]
     },
     "metadata": {},
     "output_type": "display_data"
    },
    {
     "name": "stdout",
     "output_type": "stream",
     "text": [
      "Day: 7, Month: 4, Year: 2025"
     ]
    }
   ],
   "source": [
    "today = datetime.today()\n",
    "day = today.day\n",
    "month = today.month\n",
    "year = today.year\n",
    "print(f\"Day: {day}, Month: {month}, Year: {year}\")"
   ]
  },
  {
   "cell_type": "code",
   "execution_count": 51,
   "id": "53c37c32-5886-4a48-903f-d07865d7018f",
   "metadata": {
    "execution": {
     "iopub.execute_input": "2025-04-07T13:43:35.362262Z",
     "iopub.status.busy": "2025-04-07T13:43:35.362033Z",
     "iopub.status.idle": "2025-04-07T13:43:35.405477Z",
     "shell.execute_reply": "2025-04-07T13:43:35.404823Z",
     "shell.execute_reply.started": "2025-04-07T13:43:35.362236Z"
    },
    "tags": []
   },
   "outputs": [
    {
     "data": {
      "application/vnd.jupyter.widget-view+json": {
       "model_id": "158c77b75f344c4691c320078e3c32ed",
       "version_major": 2,
       "version_minor": 0
      },
      "text/plain": [
       "VBox()"
      ]
     },
     "metadata": {},
     "output_type": "display_data"
    },
    {
     "data": {
      "application/vnd.jupyter.widget-view+json": {
       "model_id": "",
       "version_major": 2,
       "version_minor": 0
      },
      "text/plain": [
       "FloatProgress(value=0.0, bar_style='info', description='Progress:', layout=Layout(height='25px', width='50%'),…"
      ]
     },
     "metadata": {},
     "output_type": "display_data"
    },
    {
     "name": "stdout",
     "output_type": "stream",
     "text": [
      "s3://00-arkham-challenge/transform-zone-jagc/sensor_readings/year=2025/month=4/day=7/"
     ]
    }
   ],
   "source": [
    "path = 's3://00-arkham-challenge/transform-zone-jagc/sensor_readings/year={}/month={}/day={}/'.format(\n",
    "    year, month, day\n",
    ")\n",
    "print(path)"
   ]
  },
  {
   "cell_type": "code",
   "execution_count": 52,
   "id": "a3f655f5-9361-4569-9390-9e64a44f352a",
   "metadata": {
    "execution": {
     "iopub.execute_input": "2025-04-07T13:43:49.420265Z",
     "iopub.status.busy": "2025-04-07T13:43:49.419816Z",
     "iopub.status.idle": "2025-04-07T13:43:49.463687Z",
     "shell.execute_reply": "2025-04-07T13:43:49.462950Z",
     "shell.execute_reply.started": "2025-04-07T13:43:49.420234Z"
    }
   },
   "outputs": [
    {
     "data": {
      "application/vnd.jupyter.widget-view+json": {
       "model_id": "98f55498cbc34394b25700ed40e530b8",
       "version_major": 2,
       "version_minor": 0
      },
      "text/plain": [
       "VBox()"
      ]
     },
     "metadata": {},
     "output_type": "display_data"
    },
    {
     "data": {
      "application/vnd.jupyter.widget-view+json": {
       "model_id": "",
       "version_major": 2,
       "version_minor": 0
      },
      "text/plain": [
       "FloatProgress(value=0.0, bar_style='info', description='Progress:', layout=Layout(height='25px', width='50%'),…"
      ]
     },
     "metadata": {},
     "output_type": "display_data"
    },
    {
     "name": "stdout",
     "output_type": "stream",
     "text": [
      "s3://00-arkham-challenge/transform-zone-jagc/sensor_readings/year=2025/month=4/day=7/"
     ]
    }
   ],
   "source": [
    "# load fact table\n",
    "df2.select(\n",
    "    'sensor_id','time_id', 'value', 'equipment_id', 'plant_id', 'processed_at'\n",
    ").write.parquet(path, mode='overwrite')"
   ]
  },
  {
   "cell_type": "code",
   "execution_count": 54,
   "id": "e0c03810-5f3b-4d3a-82a5-527cbabe5b13",
   "metadata": {
    "execution": {
     "iopub.execute_input": "2025-04-07T13:44:23.734395Z",
     "iopub.status.busy": "2025-04-07T13:44:23.734171Z",
     "iopub.status.idle": "2025-04-07T13:44:23.786437Z",
     "shell.execute_reply": "2025-04-07T13:44:23.785810Z",
     "shell.execute_reply.started": "2025-04-07T13:44:23.734371Z"
    },
    "tags": []
   },
   "outputs": [
    {
     "data": {
      "application/vnd.jupyter.widget-view+json": {
       "model_id": "4406d7cf37e04b6daa4dd7959de1ea9e",
       "version_major": 2,
       "version_minor": 0
      },
      "text/plain": [
       "VBox()"
      ]
     },
     "metadata": {},
     "output_type": "display_data"
    },
    {
     "data": {
      "application/vnd.jupyter.widget-view+json": {
       "model_id": "",
       "version_major": 2,
       "version_minor": 0
      },
      "text/plain": [
       "FloatProgress(value=0.0, bar_style='info', description='Progress:', layout=Layout(height='25px', width='50%'),…"
      ]
     },
     "metadata": {},
     "output_type": "display_data"
    },
    {
     "name": "stdout",
     "output_type": "stream",
     "text": [
      "done"
     ]
    }
   ],
   "source": [
    "print('done')"
   ]
  }
 ],
 "metadata": {
  "kernelspec": {
   "display_name": "PySpark",
   "language": "python",
   "name": "pysparkkernel"
  },
  "language_info": {
   "codemirror_mode": {
    "name": "python",
    "version": 3
   },
   "file_extension": ".py",
   "mimetype": "text/x-python",
   "name": "pyspark",
   "pygments_lexer": "python3"
  }
 },
 "nbformat": 4,
 "nbformat_minor": 5
}
