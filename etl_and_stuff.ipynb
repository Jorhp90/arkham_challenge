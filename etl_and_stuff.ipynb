{
 "cells": [
  {
   "cell_type": "code",
   "execution_count": 1,
   "id": "3f9f69bb-44c3-4278-9396-da94048978f2",
   "metadata": {
    "execution": {
     "iopub.execute_input": "2025-04-05T22:49:35.722233Z",
     "iopub.status.busy": "2025-04-05T22:49:35.721919Z",
     "iopub.status.idle": "2025-04-05T22:50:01.306743Z",
     "shell.execute_reply": "2025-04-05T22:50:01.306066Z",
     "shell.execute_reply.started": "2025-04-05T22:49:35.722201Z"
    },
    "tags": []
   },
   "outputs": [
    {
     "data": {
      "application/vnd.jupyter.widget-view+json": {
       "model_id": "49623d944a4d42a19f6b793133cfe8cc",
       "version_major": 2,
       "version_minor": 0
      },
      "text/plain": [
       "VBox()"
      ]
     },
     "metadata": {},
     "output_type": "display_data"
    },
    {
     "name": "stdout",
     "output_type": "stream",
     "text": [
      "Starting Spark application\n"
     ]
    },
    {
     "data": {
      "text/html": [
       "<table>\n",
       "<tbody><tr><th>ID</th><th>YARN Application ID</th><th>Kind</th><th>State</th><th>Spark UI</th><th>Driver log</th><th>User</th><th>Current session?</th></tr><tr><td>10</td><td>application_1743716166877_0011</td><td>pyspark</td><td>idle</td><td><a target=\"_blank\" href=\"http://ip-10-0-23-122.us-west-1.compute.internal:20888/proxy/application_1743716166877_0011/\" class=\"emr-proxy-link j-1HKG2ZVR2EZPA application_1743716166877_0011\" emr-resource=\"j-1HKG2ZVR2EZPA\n",
       "\" application-id=\"application_1743716166877_0011\">Link</a></td><td><a target=\"_blank\" href=\"http://ip-10-0-19-48.us-west-1.compute.internal:8042/node/containerlogs/container_1743716166877_0011_01_000001/livy\">Link</a></td><td>None</td><td>✔</td></tr></tbody></table>"
      ],
      "text/plain": [
       "<IPython.core.display.HTML object>"
      ]
     },
     "metadata": {},
     "output_type": "display_data"
    },
    {
     "data": {
      "application/vnd.jupyter.widget-view+json": {
       "model_id": "",
       "version_major": 2,
       "version_minor": 0
      },
      "text/plain": [
       "FloatProgress(value=0.0, bar_style='info', description='Progress:', layout=Layout(height='25px', width='50%'),…"
      ]
     },
     "metadata": {},
     "output_type": "display_data"
    },
    {
     "name": "stdout",
     "output_type": "stream",
     "text": [
      "SparkSession available as 'spark'.\n"
     ]
    },
    {
     "data": {
      "application/vnd.jupyter.widget-view+json": {
       "model_id": "",
       "version_major": 2,
       "version_minor": 0
      },
      "text/plain": [
       "FloatProgress(value=0.0, bar_style='info', description='Progress:', layout=Layout(height='25px', width='50%'),…"
      ]
     },
     "metadata": {},
     "output_type": "display_data"
    }
   ],
   "source": [
    "from pyspark.sql import SparkSession\n",
    "from pyspark.sql.functions import col, unix_timestamp, current_timestamp, expr, date_trunc, when"
   ]
  },
  {
   "cell_type": "code",
   "execution_count": 2,
   "id": "b87e49e8-bc7a-44bd-b95c-865a5b071af6",
   "metadata": {
    "execution": {
     "iopub.execute_input": "2025-04-05T22:50:29.083518Z",
     "iopub.status.busy": "2025-04-05T22:50:29.083283Z",
     "iopub.status.idle": "2025-04-05T22:50:29.128180Z",
     "shell.execute_reply": "2025-04-05T22:50:29.127666Z",
     "shell.execute_reply.started": "2025-04-05T22:50:29.083491Z"
    },
    "tags": []
   },
   "outputs": [
    {
     "data": {
      "application/vnd.jupyter.widget-view+json": {
       "model_id": "25f22e1536a34bd5b9ae422fdf62d499",
       "version_major": 2,
       "version_minor": 0
      },
      "text/plain": [
       "VBox()"
      ]
     },
     "metadata": {},
     "output_type": "display_data"
    },
    {
     "data": {
      "application/vnd.jupyter.widget-view+json": {
       "model_id": "",
       "version_major": 2,
       "version_minor": 0
      },
      "text/plain": [
       "FloatProgress(value=0.0, bar_style='info', description='Progress:', layout=Layout(height='25px', width='50%'),…"
      ]
     },
     "metadata": {},
     "output_type": "display_data"
    }
   ],
   "source": [
    "#from pyspark.sql import SparkSession\n",
    "spark = SparkSession.builder.appName(\"StarSchemaETL\").getOrCreate()"
   ]
  },
  {
   "cell_type": "code",
   "execution_count": null,
   "id": "494f0126-4d55-466a-9efa-e21e328113ed",
   "metadata": {
    "tags": []
   },
   "outputs": [],
   "source": [
    "# %%sh\n",
    "# aws s3 cp s3://00-arkham-challenge/dim_tables/equipments/equipments.csv s3://00-arkham-challenge/raw-zone-jagc/equipments.csv"
   ]
  },
  {
   "cell_type": "code",
   "execution_count": 12,
   "id": "e9d08aec-cb49-449e-b7a3-46988b4bc80b",
   "metadata": {
    "execution": {
     "iopub.execute_input": "2025-04-04T03:39:15.488377Z",
     "iopub.status.busy": "2025-04-04T03:39:15.488148Z",
     "iopub.status.idle": "2025-04-04T03:39:15.532680Z",
     "shell.execute_reply": "2025-04-04T03:39:15.532065Z",
     "shell.execute_reply.started": "2025-04-04T03:39:15.488350Z"
    },
    "tags": []
   },
   "outputs": [
    {
     "data": {
      "application/vnd.jupyter.widget-view+json": {
       "model_id": "f3ae0b6308d947bab459fa310d2d7313",
       "version_major": 2,
       "version_minor": 0
      },
      "text/plain": [
       "VBox()"
      ]
     },
     "metadata": {},
     "output_type": "display_data"
    },
    {
     "data": {
      "application/vnd.jupyter.widget-view+json": {
       "model_id": "",
       "version_major": 2,
       "version_minor": 0
      },
      "text/plain": [
       "FloatProgress(value=0.0, bar_style='info', description='Progress:', layout=Layout(height='25px', width='50%'),…"
      ]
     },
     "metadata": {},
     "output_type": "display_data"
    }
   ],
   "source": [
    "\n",
    "# os.system(\"aws s3 mv s3://00-arkham-challenge/dim_tables/equipments/equipments.csv s3://00-arkham-challenge/raw-zone-jagc/dim_tables/equipments.csv\")\n",
    "# os.system(\"aws s3 mv s3://00-arkham-challenge/dim_tables/plants/plants.csv s3://00-arkham-challenge/raw-zone-jagc/dim_tables/plants.csv\")\n",
    "# os.system(\"aws s3 mv s3://00-arkham-challenge/dim_tables/sensors/sensors.csv s3://00-arkham-challenge/raw-zone-jagc/dim_tables/sensors.csv\")\n",
    "\n"
   ]
  },
  {
   "cell_type": "code",
   "execution_count": 4,
   "id": "c1a77316-b1a2-404c-a795-44eeda53f8c4",
   "metadata": {
    "execution": {
     "iopub.execute_input": "2025-04-05T22:53:37.435929Z",
     "iopub.status.busy": "2025-04-05T22:53:37.435626Z",
     "iopub.status.idle": "2025-04-05T22:53:37.476432Z",
     "shell.execute_reply": "2025-04-05T22:53:37.475723Z",
     "shell.execute_reply.started": "2025-04-05T22:53:37.435892Z"
    },
    "tags": []
   },
   "outputs": [
    {
     "data": {
      "application/vnd.jupyter.widget-view+json": {
       "model_id": "f6e71e5b29e34ed78aa2628cd3c85b50",
       "version_major": 2,
       "version_minor": 0
      },
      "text/plain": [
       "VBox()"
      ]
     },
     "metadata": {},
     "output_type": "display_data"
    },
    {
     "data": {
      "application/vnd.jupyter.widget-view+json": {
       "model_id": "",
       "version_major": 2,
       "version_minor": 0
      },
      "text/plain": [
       "FloatProgress(value=0.0, bar_style='info', description='Progress:', layout=Layout(height='25px', width='50%'),…"
      ]
     },
     "metadata": {},
     "output_type": "display_data"
    }
   ],
   "source": [
    "import os"
   ]
  },
  {
   "cell_type": "code",
   "execution_count": 5,
   "id": "09ed8f46-04a2-4c8a-8aea-d7ba9850fcc5",
   "metadata": {
    "execution": {
     "iopub.execute_input": "2025-04-05T22:53:40.819039Z",
     "iopub.status.busy": "2025-04-05T22:53:40.818641Z",
     "iopub.status.idle": "2025-04-05T22:53:42.077774Z",
     "shell.execute_reply": "2025-04-05T22:53:42.077069Z",
     "shell.execute_reply.started": "2025-04-05T22:53:40.819007Z"
    },
    "tags": []
   },
   "outputs": [
    {
     "data": {
      "application/vnd.jupyter.widget-view+json": {
       "model_id": "fc68b3ec9ade42ce8a374f31c6e13ea5",
       "version_major": 2,
       "version_minor": 0
      },
      "text/plain": [
       "VBox()"
      ]
     },
     "metadata": {},
     "output_type": "display_data"
    },
    {
     "data": {
      "application/vnd.jupyter.widget-view+json": {
       "model_id": "",
       "version_major": 2,
       "version_minor": 0
      },
      "text/plain": [
       "FloatProgress(value=0.0, bar_style='info', description='Progress:', layout=Layout(height='25px', width='50%'),…"
      ]
     },
     "metadata": {},
     "output_type": "display_data"
    },
    {
     "name": "stderr",
     "output_type": "stream",
     "text": [
      "An error was encountered:\n",
      "Unrecognized token 'Completed': was expecting (JSON String, Number, Array, Object or token 'null', 'true' or 'false')\n",
      " at [Source: (String)\"Completed 7.5 MiB/7.5 MiB (36.1 MiB/s) with 1 file(s) remaining\"; line: 1, column: 10]\n",
      "\n"
     ]
    }
   ],
   "source": [
    "os.system(\n",
    "    \"aws s3 mv s3://00-arkham-challenge/fact_tables/sensor_readings/sensor_readings_2023.csv s3://00-arkham-challenge/raw-zone-jagc/fact_tables/sensor_readings_2023.csv\"\n",
    ")"
   ]
  },
  {
   "cell_type": "code",
   "execution_count": 6,
   "id": "06f8bb01-ec84-44ac-aaea-005ec81f453c",
   "metadata": {
    "execution": {
     "iopub.execute_input": "2025-04-05T22:55:33.549290Z",
     "iopub.status.busy": "2025-04-05T22:55:33.549058Z",
     "iopub.status.idle": "2025-04-05T22:55:33.588982Z",
     "shell.execute_reply": "2025-04-05T22:55:33.588364Z",
     "shell.execute_reply.started": "2025-04-05T22:55:33.549264Z"
    },
    "tags": []
   },
   "outputs": [
    {
     "data": {
      "application/vnd.jupyter.widget-view+json": {
       "model_id": "c006f6816baf4565b18d3baa131a001b",
       "version_major": 2,
       "version_minor": 0
      },
      "text/plain": [
       "VBox()"
      ]
     },
     "metadata": {},
     "output_type": "display_data"
    },
    {
     "data": {
      "application/vnd.jupyter.widget-view+json": {
       "model_id": "",
       "version_major": 2,
       "version_minor": 0
      },
      "text/plain": [
       "FloatProgress(value=0.0, bar_style='info', description='Progress:', layout=Layout(height='25px', width='50%'),…"
      ]
     },
     "metadata": {},
     "output_type": "display_data"
    },
    {
     "name": "stdout",
     "output_type": "stream",
     "text": [
      "0"
     ]
    }
   ],
   "source": [
    "# Read raw CSV files from S3\n",
    "path = 's3://00-arkham-challenge/raw-zone-jagc/fact_tables/sensor_readings_2023.csv'\n",
    "sensor_readings = spark.read.csv(path, header=True, inferSchema=True)"
   ]
  },
  {
   "cell_type": "code",
   "execution_count": 8,
   "id": "20b3b240-ca39-45ed-ae91-9985a979ce37",
   "metadata": {
    "execution": {
     "iopub.execute_input": "2025-04-05T22:55:52.487031Z",
     "iopub.status.busy": "2025-04-05T22:55:52.486709Z",
     "iopub.status.idle": "2025-04-05T22:55:52.536963Z",
     "shell.execute_reply": "2025-04-05T22:55:52.535865Z",
     "shell.execute_reply.started": "2025-04-05T22:55:52.486990Z"
    },
    "tags": []
   },
   "outputs": [
    {
     "data": {
      "application/vnd.jupyter.widget-view+json": {
       "model_id": "540a384a33ec4cb19e79a7bf7c481b0a",
       "version_major": 2,
       "version_minor": 0
      },
      "text/plain": [
       "VBox()"
      ]
     },
     "metadata": {},
     "output_type": "display_data"
    },
    {
     "data": {
      "application/vnd.jupyter.widget-view+json": {
       "model_id": "",
       "version_major": 2,
       "version_minor": 0
      },
      "text/plain": [
       "FloatProgress(value=0.0, bar_style='info', description='Progress:', layout=Layout(height='25px', width='50%'),…"
      ]
     },
     "metadata": {},
     "output_type": "display_data"
    },
    {
     "name": "stdout",
     "output_type": "stream",
     "text": [
      "+-------------------+---------+-------+\n",
      "|          timestamp|sensor_id|  value|\n",
      "+-------------------+---------+-------+\n",
      "|2023-01-02 00:00:00|  3000001|1133.09|\n",
      "|2023-01-02 12:00:00|  3000001|1058.12|\n",
      "|2023-01-03 00:00:00|  3000001| 1114.6|\n",
      "|2023-01-03 12:00:00|  3000001|1164.16|\n",
      "|2023-01-04 00:00:00|  3000001| 852.07|\n",
      "+-------------------+---------+-------+\n",
      "only showing top 5 rows"
     ]
    }
   ],
   "source": [
    "sensor_readings.show(5)"
   ]
  },
  {
   "cell_type": "code",
   "execution_count": 10,
   "id": "7c4099e1-ce93-4203-a7f2-672c6c69f030",
   "metadata": {
    "execution": {
     "iopub.execute_input": "2025-04-05T22:56:00.230590Z",
     "iopub.status.busy": "2025-04-05T22:56:00.230367Z",
     "iopub.status.idle": "2025-04-05T22:56:00.271730Z",
     "shell.execute_reply": "2025-04-05T22:56:00.271099Z",
     "shell.execute_reply.started": "2025-04-05T22:56:00.230567Z"
    },
    "tags": []
   },
   "outputs": [
    {
     "data": {
      "application/vnd.jupyter.widget-view+json": {
       "model_id": "3c183b7c7d214182bc664b074976e0eb",
       "version_major": 2,
       "version_minor": 0
      },
      "text/plain": [
       "VBox()"
      ]
     },
     "metadata": {},
     "output_type": "display_data"
    },
    {
     "data": {
      "application/vnd.jupyter.widget-view+json": {
       "model_id": "",
       "version_major": 2,
       "version_minor": 0
      },
      "text/plain": [
       "FloatProgress(value=0.0, bar_style='info', description='Progress:', layout=Layout(height='25px', width='50%'),…"
      ]
     },
     "metadata": {},
     "output_type": "display_data"
    },
    {
     "name": "stdout",
     "output_type": "stream",
     "text": [
      "227760"
     ]
    }
   ],
   "source": [
    "sensor_readings.count()"
   ]
  },
  {
   "cell_type": "code",
   "execution_count": 11,
   "id": "b72a4621-7224-44a0-9028-e58a09e801e3",
   "metadata": {
    "execution": {
     "iopub.execute_input": "2025-04-05T22:56:40.726319Z",
     "iopub.status.busy": "2025-04-05T22:56:40.726061Z",
     "iopub.status.idle": "2025-04-05T22:56:40.767660Z",
     "shell.execute_reply": "2025-04-05T22:56:40.767052Z",
     "shell.execute_reply.started": "2025-04-05T22:56:40.726293Z"
    },
    "tags": []
   },
   "outputs": [
    {
     "data": {
      "application/vnd.jupyter.widget-view+json": {
       "model_id": "3a1d0da5caa54e909d740e9b199fae13",
       "version_major": 2,
       "version_minor": 0
      },
      "text/plain": [
       "VBox()"
      ]
     },
     "metadata": {},
     "output_type": "display_data"
    },
    {
     "data": {
      "application/vnd.jupyter.widget-view+json": {
       "model_id": "",
       "version_major": 2,
       "version_minor": 0
      },
      "text/plain": [
       "FloatProgress(value=0.0, bar_style='info', description='Progress:', layout=Layout(height='25px', width='50%'),…"
      ]
     },
     "metadata": {},
     "output_type": "display_data"
    },
    {
     "name": "stdout",
     "output_type": "stream",
     "text": [
      "227760"
     ]
    }
   ],
   "source": [
    "path = 's3://00-arkham-challenge/raw-zone-jagc/dim_tables/sensors.csv'\n",
    "sensors = spark.read.csv(path, header=True, inferSchema=True)"
   ]
  },
  {
   "cell_type": "code",
   "execution_count": 12,
   "id": "b128d698-8f22-478e-b2a0-66c39469ba40",
   "metadata": {
    "execution": {
     "iopub.execute_input": "2025-04-05T22:56:42.483611Z",
     "iopub.status.busy": "2025-04-05T22:56:42.483387Z",
     "iopub.status.idle": "2025-04-05T22:56:42.523196Z",
     "shell.execute_reply": "2025-04-05T22:56:42.522627Z",
     "shell.execute_reply.started": "2025-04-05T22:56:42.483586Z"
    },
    "tags": []
   },
   "outputs": [
    {
     "data": {
      "application/vnd.jupyter.widget-view+json": {
       "model_id": "752b2b4b2de248669276b897fcf9bc02",
       "version_major": 2,
       "version_minor": 0
      },
      "text/plain": [
       "VBox()"
      ]
     },
     "metadata": {},
     "output_type": "display_data"
    },
    {
     "data": {
      "application/vnd.jupyter.widget-view+json": {
       "model_id": "",
       "version_major": 2,
       "version_minor": 0
      },
      "text/plain": [
       "FloatProgress(value=0.0, bar_style='info', description='Progress:', layout=Layout(height='25px', width='50%'),…"
      ]
     },
     "metadata": {},
     "output_type": "display_data"
    }
   ],
   "source": [
    "path = 's3://00-arkham-challenge/raw-zone-jagc/dim_tables/equipments.csv'\n",
    "equipments = spark.read.csv(path, header=True, inferSchema=True)\n",
    "path = 's3://00-arkham-challenge/raw-zone-jagc/dim_tables/plants.csv'\n",
    "plants = spark.read.csv(path, header=True, inferSchema=True)"
   ]
  },
  {
   "cell_type": "code",
   "execution_count": 14,
   "id": "c4e0ffde-71a7-43ac-b54e-4560407906b8",
   "metadata": {
    "execution": {
     "iopub.execute_input": "2025-04-05T22:56:44.923027Z",
     "iopub.status.busy": "2025-04-05T22:56:44.922785Z",
     "iopub.status.idle": "2025-04-05T22:56:45.058684Z",
     "shell.execute_reply": "2025-04-05T22:56:45.058097Z",
     "shell.execute_reply.started": "2025-04-05T22:56:44.923000Z"
    },
    "tags": []
   },
   "outputs": [
    {
     "data": {
      "application/vnd.jupyter.widget-view+json": {
       "model_id": "20bc0753adee49ac8a48a02ca204e152",
       "version_major": 2,
       "version_minor": 0
      },
      "text/plain": [
       "VBox()"
      ]
     },
     "metadata": {},
     "output_type": "display_data"
    },
    {
     "data": {
      "application/vnd.jupyter.widget-view+json": {
       "model_id": "",
       "version_major": 2,
       "version_minor": 0
      },
      "text/plain": [
       "FloatProgress(value=0.0, bar_style='info', description='Progress:', layout=Layout(height='25px', width='50%'),…"
      ]
     },
     "metadata": {},
     "output_type": "display_data"
    },
    {
     "name": "stdout",
     "output_type": "stream",
     "text": [
      "root\n",
      " |-- timestamp: timestamp (nullable = true)\n",
      " |-- sensor_id: integer (nullable = true)\n",
      " |-- value: double (nullable = true)\n",
      "\n",
      "None 227760\n",
      "+-------------------+---------+-------+\n",
      "|          timestamp|sensor_id|  value|\n",
      "+-------------------+---------+-------+\n",
      "|2023-01-02 00:00:00|  3000001|1133.09|\n",
      "|2023-01-02 12:00:00|  3000001|1058.12|\n",
      "|2023-01-03 00:00:00|  3000001| 1114.6|\n",
      "|2023-01-03 12:00:00|  3000001|1164.16|\n",
      "|2023-01-04 00:00:00|  3000001| 852.07|\n",
      "+-------------------+---------+-------+\n",
      "only showing top 5 rows"
     ]
    }
   ],
   "source": [
    "print(sensor_readings.printSchema(), sensor_readings.count())\n",
    "sensor_readings.show(5)"
   ]
  },
  {
   "cell_type": "code",
   "execution_count": 15,
   "id": "0970c5d6-ac87-4b64-8b31-854df5a3270f",
   "metadata": {
    "execution": {
     "iopub.execute_input": "2025-04-05T22:56:46.869538Z",
     "iopub.status.busy": "2025-04-05T22:56:46.869320Z",
     "iopub.status.idle": "2025-04-05T22:56:46.911310Z",
     "shell.execute_reply": "2025-04-05T22:56:46.910702Z",
     "shell.execute_reply.started": "2025-04-05T22:56:46.869514Z"
    },
    "tags": []
   },
   "outputs": [
    {
     "data": {
      "application/vnd.jupyter.widget-view+json": {
       "model_id": "f6226bfae8ad45df8878686d6006b1d7",
       "version_major": 2,
       "version_minor": 0
      },
      "text/plain": [
       "VBox()"
      ]
     },
     "metadata": {},
     "output_type": "display_data"
    },
    {
     "data": {
      "application/vnd.jupyter.widget-view+json": {
       "model_id": "",
       "version_major": 2,
       "version_minor": 0
      },
      "text/plain": [
       "FloatProgress(value=0.0, bar_style='info', description='Progress:', layout=Layout(height='25px', width='50%'),…"
      ]
     },
     "metadata": {},
     "output_type": "display_data"
    },
    {
     "name": "stdout",
     "output_type": "stream",
     "text": [
      "root\n",
      " |-- timestamp: timestamp (nullable = true)\n",
      " |-- sensor_id: integer (nullable = true)\n",
      " |-- value: double (nullable = true)\n",
      "\n",
      "None 227760\n",
      "+-------------------+---------+-------+\n",
      "|          timestamp|sensor_id|  value|\n",
      "+-------------------+---------+-------+\n",
      "|2023-01-02 00:00:00|  3000001|1133.09|\n",
      "|2023-01-02 12:00:00|  3000001|1058.12|\n",
      "|2023-01-03 00:00:00|  3000001| 1114.6|\n",
      "|2023-01-03 12:00:00|  3000001|1164.16|\n",
      "|2023-01-04 00:00:00|  3000001| 852.07|\n",
      "+-------------------+---------+-------+\n",
      "only showing top 5 rows"
     ]
    }
   ],
   "source": [
    "print(sensors.printSchema(), sensors.count())\n",
    "sensors.show(5)"
   ]
  },
  {
   "cell_type": "code",
   "execution_count": 16,
   "id": "5219ee38-f0de-4fde-b038-4b26e0d81884",
   "metadata": {
    "execution": {
     "iopub.execute_input": "2025-04-05T22:56:48.129456Z",
     "iopub.status.busy": "2025-04-05T22:56:48.129224Z",
     "iopub.status.idle": "2025-04-05T22:56:48.169561Z",
     "shell.execute_reply": "2025-04-05T22:56:48.168976Z",
     "shell.execute_reply.started": "2025-04-05T22:56:48.129431Z"
    },
    "tags": []
   },
   "outputs": [
    {
     "data": {
      "application/vnd.jupyter.widget-view+json": {
       "model_id": "aef2c05a617149ee92ab61ee07b5f4f3",
       "version_major": 2,
       "version_minor": 0
      },
      "text/plain": [
       "VBox()"
      ]
     },
     "metadata": {},
     "output_type": "display_data"
    },
    {
     "data": {
      "application/vnd.jupyter.widget-view+json": {
       "model_id": "",
       "version_major": 2,
       "version_minor": 0
      },
      "text/plain": [
       "FloatProgress(value=0.0, bar_style='info', description='Progress:', layout=Layout(height='25px', width='50%'),…"
      ]
     },
     "metadata": {},
     "output_type": "display_data"
    },
    {
     "name": "stdout",
     "output_type": "stream",
     "text": [
      "root\n",
      " |-- sensor_id: integer (nullable = true)\n",
      " |-- name: string (nullable = true)\n",
      " |-- unit: string (nullable = true)\n",
      " |-- equipment_id: integer (nullable = true)\n",
      "\n",
      "None 438\n",
      "+---------+------------+-------+------------+\n",
      "|sensor_id|        name|   unit|equipment_id|\n",
      "+---------+------------+-------+------------+\n",
      "|  3000001|Thermocouple|Celsius|     2000001|\n",
      "|  3000002|Thermocouple|Celsius|     2000002|\n",
      "|  3000003|Thermocouple|Celsius|     2000003|\n",
      "|  3000004|Thermocouple|Celsius|     2000004|\n",
      "|  3000005|Thermocouple|Celsius|     2000005|\n",
      "+---------+------------+-------+------------+\n",
      "only showing top 5 rows"
     ]
    }
   ],
   "source": [
    "print(equipments.printSchema(), equipments.count())\n",
    "equipments.show(5)"
   ]
  },
  {
   "cell_type": "code",
   "execution_count": 17,
   "id": "71c62abb-106f-49a7-91fc-f0bf357db1ca",
   "metadata": {
    "execution": {
     "iopub.execute_input": "2025-04-05T22:56:49.405053Z",
     "iopub.status.busy": "2025-04-05T22:56:49.399882Z",
     "iopub.status.idle": "2025-04-05T22:56:49.493622Z",
     "shell.execute_reply": "2025-04-05T22:56:49.492942Z",
     "shell.execute_reply.started": "2025-04-05T22:56:49.405019Z"
    },
    "tags": []
   },
   "outputs": [
    {
     "data": {
      "application/vnd.jupyter.widget-view+json": {
       "model_id": "9781520e8e6b48628e597d552c9db2a9",
       "version_major": 2,
       "version_minor": 0
      },
      "text/plain": [
       "VBox()"
      ]
     },
     "metadata": {},
     "output_type": "display_data"
    },
    {
     "data": {
      "application/vnd.jupyter.widget-view+json": {
       "model_id": "",
       "version_major": 2,
       "version_minor": 0
      },
      "text/plain": [
       "FloatProgress(value=0.0, bar_style='info', description='Progress:', layout=Layout(height='25px', width='50%'),…"
      ]
     },
     "metadata": {},
     "output_type": "display_data"
    },
    {
     "name": "stdout",
     "output_type": "stream",
     "text": [
      "root\n",
      " |-- equipment_id: integer (nullable = true)\n",
      " |-- name: string (nullable = true)\n",
      " |-- type: string (nullable = true)\n",
      " |-- plant_id: integer (nullable = true)\n",
      "\n",
      "None 161\n",
      "+------------+-----------+-------+--------+\n",
      "|equipment_id|       name|   type|plant_id|\n",
      "+------------+-----------+-------+--------+\n",
      "|     2000001|Gas turbine|Turbine|    1001|\n",
      "|     2000002|Gas turbine|Turbine|    1001|\n",
      "|     2000003|Gas turbine|Turbine|    1001|\n",
      "|     2000004|Gas turbine|Turbine|    1002|\n",
      "|     2000005|Gas turbine|Turbine|    1002|\n",
      "+------------+-----------+-------+--------+\n",
      "only showing top 5 rows"
     ]
    }
   ],
   "source": [
    "print(plants.printSchema(), plants.count())\n",
    "plants.show()"
   ]
  },
  {
   "cell_type": "code",
   "execution_count": 18,
   "id": "7a386455-edab-435e-9f48-0900a7a4b7e2",
   "metadata": {
    "execution": {
     "iopub.execute_input": "2025-04-05T22:56:51.512977Z",
     "iopub.status.busy": "2025-04-05T22:56:51.512741Z",
     "iopub.status.idle": "2025-04-05T22:56:51.586320Z",
     "shell.execute_reply": "2025-04-05T22:56:51.584218Z",
     "shell.execute_reply.started": "2025-04-05T22:56:51.512951Z"
    },
    "tags": []
   },
   "outputs": [
    {
     "data": {
      "application/vnd.jupyter.widget-view+json": {
       "model_id": "ad792658abf04f3bb127955dba6a410d",
       "version_major": 2,
       "version_minor": 0
      },
      "text/plain": [
       "VBox()"
      ]
     },
     "metadata": {},
     "output_type": "display_data"
    },
    {
     "data": {
      "application/vnd.jupyter.widget-view+json": {
       "model_id": "",
       "version_major": 2,
       "version_minor": 0
      },
      "text/plain": [
       "FloatProgress(value=0.0, bar_style='info', description='Progress:', layout=Layout(height='25px', width='50%'),…"
      ]
     },
     "metadata": {},
     "output_type": "display_data"
    },
    {
     "name": "stdout",
     "output_type": "stream",
     "text": [
      "root\n",
      " |-- plant_id: integer (nullable = true)\n",
      " |-- name: string (nullable = true)\n",
      " |-- region: string (nullable = true)\n",
      "\n",
      "None 9\n",
      "+--------+--------------------+---------+\n",
      "|plant_id|                name|   region|\n",
      "+--------+--------------------+---------+\n",
      "|    1001|    Baja Norte Plant|Northwest|\n",
      "|    1002|  Sonora Solar Plant|Northwest|\n",
      "|    1003|Chihuahua Wind Plant|Northwest|\n",
      "|    1004|  Durango Energy Hub|Northwest|\n",
      "|    1005|    Gulf Coast Plant|Northeast|\n",
      "|    1006|Monterrey Thermal...|Northeast|\n",
      "|    1007|Veracruz Hydropow...|Northeast|\n",
      "|    1008|Yucatan Power Sta...|Southwest|\n",
      "|    1009|Oaxaca Renewable ...|Southeast|\n",
      "+--------+--------------------+---------+"
     ]
    }
   ],
   "source": [
    "# Join sensor_readings with sensors: df1\n",
    "df1 = sensor_readings.join(\n",
    "    sensors.select('sensor_id', 'equipment_id'), \n",
    "    on = 'sensor_id',\n",
    "    how=\"inner\")"
   ]
  },
  {
   "cell_type": "code",
   "execution_count": 20,
   "id": "810e3c05-a77d-4b61-ac1e-f59af37eaf97",
   "metadata": {
    "execution": {
     "iopub.execute_input": "2025-04-05T22:56:54.583248Z",
     "iopub.status.busy": "2025-04-05T22:56:54.583020Z",
     "iopub.status.idle": "2025-04-05T22:56:54.623614Z",
     "shell.execute_reply": "2025-04-05T22:56:54.622947Z",
     "shell.execute_reply.started": "2025-04-05T22:56:54.583221Z"
    },
    "tags": []
   },
   "outputs": [
    {
     "data": {
      "application/vnd.jupyter.widget-view+json": {
       "model_id": "616e250150fe4f77bb249de13f6e8e6a",
       "version_major": 2,
       "version_minor": 0
      },
      "text/plain": [
       "VBox()"
      ]
     },
     "metadata": {},
     "output_type": "display_data"
    },
    {
     "data": {
      "application/vnd.jupyter.widget-view+json": {
       "model_id": "",
       "version_major": 2,
       "version_minor": 0
      },
      "text/plain": [
       "FloatProgress(value=0.0, bar_style='info', description='Progress:', layout=Layout(height='25px', width='50%'),…"
      ]
     },
     "metadata": {},
     "output_type": "display_data"
    },
    {
     "name": "stdout",
     "output_type": "stream",
     "text": [
      "+---------+-------------------+-------+------------+\n",
      "|sensor_id|          timestamp|  value|equipment_id|\n",
      "+---------+-------------------+-------+------------+\n",
      "|  3000001|2023-01-02 00:00:00|1133.09|     2000001|\n",
      "|  3000001|2023-01-02 12:00:00|1058.12|     2000001|\n",
      "+---------+-------------------+-------+------------+\n",
      "only showing top 2 rows"
     ]
    }
   ],
   "source": [
    "df1.show(2)"
   ]
  },
  {
   "cell_type": "code",
   "execution_count": 21,
   "id": "ff07d3c3-742a-403f-ba2b-314e72b51525",
   "metadata": {
    "execution": {
     "iopub.execute_input": "2025-04-05T22:56:57.174130Z",
     "iopub.status.busy": "2025-04-05T22:56:57.173895Z",
     "iopub.status.idle": "2025-04-05T22:56:57.213142Z",
     "shell.execute_reply": "2025-04-05T22:56:57.212552Z",
     "shell.execute_reply.started": "2025-04-05T22:56:57.174107Z"
    },
    "tags": []
   },
   "outputs": [
    {
     "data": {
      "application/vnd.jupyter.widget-view+json": {
       "model_id": "3a9d79bff24d46ce9d467aa4341d4e28",
       "version_major": 2,
       "version_minor": 0
      },
      "text/plain": [
       "VBox()"
      ]
     },
     "metadata": {},
     "output_type": "display_data"
    },
    {
     "data": {
      "application/vnd.jupyter.widget-view+json": {
       "model_id": "",
       "version_major": 2,
       "version_minor": 0
      },
      "text/plain": [
       "FloatProgress(value=0.0, bar_style='info', description='Progress:', layout=Layout(height='25px', width='50%'),…"
      ]
     },
     "metadata": {},
     "output_type": "display_data"
    },
    {
     "name": "stdout",
     "output_type": "stream",
     "text": [
      "+---------+-------------------+-------+------------+\n",
      "|sensor_id|          timestamp|  value|equipment_id|\n",
      "+---------+-------------------+-------+------------+\n",
      "|  3000001|2023-01-02 00:00:00|1133.09|     2000001|\n",
      "|  3000001|2023-01-02 12:00:00|1058.12|     2000001|\n",
      "+---------+-------------------+-------+------------+\n",
      "only showing top 2 rows"
     ]
    }
   ],
   "source": [
    "sensor_readings.count(), df1.count(), df1.filter(df1.equipment_id.isNull()).count()"
   ]
  },
  {
   "cell_type": "code",
   "execution_count": 23,
   "id": "1abcf171-9732-459a-a66c-2ede266143da",
   "metadata": {
    "execution": {
     "iopub.execute_input": "2025-04-05T22:57:04.444515Z",
     "iopub.status.busy": "2025-04-05T22:57:04.444278Z",
     "iopub.status.idle": "2025-04-05T22:57:04.488541Z",
     "shell.execute_reply": "2025-04-05T22:57:04.487948Z",
     "shell.execute_reply.started": "2025-04-05T22:57:04.444489Z"
    },
    "tags": []
   },
   "outputs": [
    {
     "data": {
      "application/vnd.jupyter.widget-view+json": {
       "model_id": "5d00f40f212e4a3abac32822289e370b",
       "version_major": 2,
       "version_minor": 0
      },
      "text/plain": [
       "VBox()"
      ]
     },
     "metadata": {},
     "output_type": "display_data"
    },
    {
     "data": {
      "application/vnd.jupyter.widget-view+json": {
       "model_id": "",
       "version_major": 2,
       "version_minor": 0
      },
      "text/plain": [
       "FloatProgress(value=0.0, bar_style='info', description='Progress:', layout=Layout(height='25px', width='50%'),…"
      ]
     },
     "metadata": {},
     "output_type": "display_data"
    }
   ],
   "source": [
    "# join df1 with equipments: df2\n",
    "df2 = df1.join(\n",
    "    equipments.select('equipment_id', 'plant_id'),\n",
    "    on = 'equipment_id',\n",
    "    how=\"inner\")\n",
    "#df2 = df2.withColumn(\"time_id\", unix_timestamp(col(\"timestamp\")))\n",
    "#df2 = df2.withColumn(\"processed_at\", unix_timestamp(current_timestamp()))"
   ]
  },
  {
   "cell_type": "code",
   "execution_count": 24,
   "id": "f7e284d0-bee1-4130-8a4a-89ee3bc7419c",
   "metadata": {
    "execution": {
     "iopub.execute_input": "2025-04-05T22:57:40.026967Z",
     "iopub.status.busy": "2025-04-05T22:57:40.026741Z",
     "iopub.status.idle": "2025-04-05T22:57:40.067577Z",
     "shell.execute_reply": "2025-04-05T22:57:40.066999Z",
     "shell.execute_reply.started": "2025-04-05T22:57:40.026943Z"
    },
    "tags": []
   },
   "outputs": [
    {
     "data": {
      "application/vnd.jupyter.widget-view+json": {
       "model_id": "baaa89fa259f46de8a3d4b76669a1b6d",
       "version_major": 2,
       "version_minor": 0
      },
      "text/plain": [
       "VBox()"
      ]
     },
     "metadata": {},
     "output_type": "display_data"
    },
    {
     "data": {
      "application/vnd.jupyter.widget-view+json": {
       "model_id": "",
       "version_major": 2,
       "version_minor": 0
      },
      "text/plain": [
       "FloatProgress(value=0.0, bar_style='info', description='Progress:', layout=Layout(height='25px', width='50%'),…"
      ]
     },
     "metadata": {},
     "output_type": "display_data"
    }
   ],
   "source": [
    "df2 = df2.withColumn(\"time_id\", unix_timestamp(date_trunc(\"hour\", col(\"timestamp\"))))\n",
    "df2 = df2.withColumn(\"processed_at\", unix_timestamp(date_trunc(\"hour\", current_timestamp())))"
   ]
  },
  {
   "cell_type": "code",
   "execution_count": 26,
   "id": "d704d717-49ff-4e69-8f9a-2a7cf60d7b3a",
   "metadata": {
    "execution": {
     "iopub.execute_input": "2025-04-05T22:57:41.727667Z",
     "iopub.status.busy": "2025-04-05T22:57:41.727447Z",
     "iopub.status.idle": "2025-04-05T22:57:41.769757Z",
     "shell.execute_reply": "2025-04-05T22:57:41.769153Z",
     "shell.execute_reply.started": "2025-04-05T22:57:41.727642Z"
    },
    "tags": []
   },
   "outputs": [
    {
     "data": {
      "application/vnd.jupyter.widget-view+json": {
       "model_id": "ae3d4ebca7504c978a0fb5debe38a251",
       "version_major": 2,
       "version_minor": 0
      },
      "text/plain": [
       "VBox()"
      ]
     },
     "metadata": {},
     "output_type": "display_data"
    },
    {
     "data": {
      "application/vnd.jupyter.widget-view+json": {
       "model_id": "",
       "version_major": 2,
       "version_minor": 0
      },
      "text/plain": [
       "FloatProgress(value=0.0, bar_style='info', description='Progress:', layout=Layout(height='25px', width='50%'),…"
      ]
     },
     "metadata": {},
     "output_type": "display_data"
    },
    {
     "name": "stdout",
     "output_type": "stream",
     "text": [
      "+------------+---------+-------------------+-------+--------+----------+------------+\n",
      "|equipment_id|sensor_id|          timestamp|  value|plant_id|   time_id|processed_at|\n",
      "+------------+---------+-------------------+-------+--------+----------+------------+\n",
      "|     2000001|  3000001|2023-01-02 00:00:00|1133.09|    1001|1672617600|  1743890400|\n",
      "|     2000001|  3000001|2023-01-02 12:00:00|1058.12|    1001|1672660800|  1743890400|\n",
      "+------------+---------+-------------------+-------+--------+----------+------------+\n",
      "only showing top 2 rows"
     ]
    }
   ],
   "source": [
    "df2.show(2)"
   ]
  },
  {
   "cell_type": "code",
   "execution_count": 28,
   "id": "674ff987-7973-4b3b-a116-45da6faee184",
   "metadata": {
    "execution": {
     "iopub.execute_input": "2025-04-05T22:57:50.448119Z",
     "iopub.status.busy": "2025-04-05T22:57:50.447867Z",
     "iopub.status.idle": "2025-04-05T22:57:50.487940Z",
     "shell.execute_reply": "2025-04-05T22:57:50.487252Z",
     "shell.execute_reply.started": "2025-04-05T22:57:50.448091Z"
    },
    "tags": []
   },
   "outputs": [
    {
     "data": {
      "application/vnd.jupyter.widget-view+json": {
       "model_id": "576686020b95450091d9e04284cc8017",
       "version_major": 2,
       "version_minor": 0
      },
      "text/plain": [
       "VBox()"
      ]
     },
     "metadata": {},
     "output_type": "display_data"
    },
    {
     "data": {
      "application/vnd.jupyter.widget-view+json": {
       "model_id": "",
       "version_major": 2,
       "version_minor": 0
      },
      "text/plain": [
       "FloatProgress(value=0.0, bar_style='info', description='Progress:', layout=Layout(height='25px', width='50%'),…"
      ]
     },
     "metadata": {},
     "output_type": "display_data"
    },
    {
     "name": "stdout",
     "output_type": "stream",
     "text": [
      "227760"
     ]
    }
   ],
   "source": [
    "df2.count()"
   ]
  },
  {
   "cell_type": "code",
   "execution_count": 28,
   "id": "33618f86-4c2d-42aa-80ea-ff4a4e0a97c6",
   "metadata": {
    "execution": {
     "iopub.execute_input": "2025-04-04T16:19:26.318791Z",
     "iopub.status.busy": "2025-04-04T16:19:26.318537Z",
     "iopub.status.idle": "2025-04-04T16:19:28.582102Z",
     "shell.execute_reply": "2025-04-04T16:19:28.581343Z",
     "shell.execute_reply.started": "2025-04-04T16:19:26.318760Z"
    },
    "tags": []
   },
   "outputs": [
    {
     "data": {
      "application/vnd.jupyter.widget-view+json": {
       "model_id": "91c3803f4640415c8e3b7bb784bd09a9",
       "version_major": 2,
       "version_minor": 0
      },
      "text/plain": [
       "VBox()"
      ]
     },
     "metadata": {},
     "output_type": "display_data"
    },
    {
     "data": {
      "application/vnd.jupyter.widget-view+json": {
       "model_id": "",
       "version_major": 2,
       "version_minor": 0
      },
      "text/plain": [
       "FloatProgress(value=0.0, bar_style='info', description='Progress:', layout=Layout(height='25px', width='50%'),…"
      ]
     },
     "metadata": {},
     "output_type": "display_data"
    },
    {
     "name": "stdout",
     "output_type": "stream",
     "text": [
      "(1218, 1218, 0)"
     ]
    }
   ],
   "source": [
    "df1.count(), df2.count(), df2.filter(df2.plant_id.isNull()).count()"
   ]
  },
  {
   "cell_type": "code",
   "execution_count": 30,
   "id": "84d6de46-8b84-41c8-9385-2bd33079409d",
   "metadata": {
    "execution": {
     "iopub.execute_input": "2025-04-05T22:58:06.895881Z",
     "iopub.status.busy": "2025-04-05T22:58:06.895651Z",
     "iopub.status.idle": "2025-04-05T22:58:06.936915Z",
     "shell.execute_reply": "2025-04-05T22:58:06.936295Z",
     "shell.execute_reply.started": "2025-04-05T22:58:06.895855Z"
    },
    "tags": []
   },
   "outputs": [
    {
     "data": {
      "application/vnd.jupyter.widget-view+json": {
       "model_id": "9188b15c1bd34e3cac0d56091a6baf12",
       "version_major": 2,
       "version_minor": 0
      },
      "text/plain": [
       "VBox()"
      ]
     },
     "metadata": {},
     "output_type": "display_data"
    },
    {
     "data": {
      "application/vnd.jupyter.widget-view+json": {
       "model_id": "",
       "version_major": 2,
       "version_minor": 0
      },
      "text/plain": [
       "FloatProgress(value=0.0, bar_style='info', description='Progress:', layout=Layout(height='25px', width='50%'),…"
      ]
     },
     "metadata": {},
     "output_type": "display_data"
    },
    {
     "name": "stdout",
     "output_type": "stream",
     "text": [
      "root\n",
      " |-- equipment_id: integer (nullable = true)\n",
      " |-- sensor_id: integer (nullable = true)\n",
      " |-- timestamp: timestamp (nullable = true)\n",
      " |-- value: double (nullable = true)\n",
      " |-- plant_id: integer (nullable = true)\n",
      " |-- time_id: long (nullable = true)\n",
      " |-- processed_at: long (nullable = true)"
     ]
    }
   ],
   "source": [
    "df2.printSchema()"
   ]
  },
  {
   "cell_type": "code",
   "execution_count": 56,
   "id": "a31af60e-bd30-4f5d-881b-1ccde2b1e544",
   "metadata": {
    "execution": {
     "iopub.execute_input": "2025-04-04T17:04:06.118076Z",
     "iopub.status.busy": "2025-04-04T17:04:06.117722Z",
     "iopub.status.idle": "2025-04-04T17:04:06.891522Z",
     "shell.execute_reply": "2025-04-04T17:04:06.890577Z",
     "shell.execute_reply.started": "2025-04-04T17:04:06.118032Z"
    },
    "tags": []
   },
   "outputs": [
    {
     "data": {
      "application/vnd.jupyter.widget-view+json": {
       "model_id": "edd1954076cd4c24bf10e34e7d72c640",
       "version_major": 2,
       "version_minor": 0
      },
      "text/plain": [
       "VBox()"
      ]
     },
     "metadata": {},
     "output_type": "display_data"
    },
    {
     "data": {
      "application/vnd.jupyter.widget-view+json": {
       "model_id": "",
       "version_major": 2,
       "version_minor": 0
      },
      "text/plain": [
       "FloatProgress(value=0.0, bar_style='info', description='Progress:', layout=Layout(height='25px', width='50%'),…"
      ]
     },
     "metadata": {},
     "output_type": "display_data"
    },
    {
     "name": "stdout",
     "output_type": "stream",
     "text": [
      "+---------+----------+-------+------------+--------+------------+\n",
      "|sensor_id|   time_id|  value|equipment_id|plant_id|processed_at|\n",
      "+---------+----------+-------+------------+--------+------------+\n",
      "|  3000001|1735689600|1021.89|     2000001|    1001|  1743786246|\n",
      "|  3000001|1735732800|1005.37|     2000001|    1001|  1743786246|\n",
      "|  3000001|1735776000|1027.69|     2000001|    1001|  1743786246|\n",
      "|  3000001|1735819200|1238.85|     2000001|    1001|  1743786246|\n",
      "|  3000001|1735862400| 1058.9|     2000001|    1001|  1743786246|\n",
      "+---------+----------+-------+------------+--------+------------+\n",
      "only showing top 5 rows"
     ]
    }
   ],
   "source": [
    "df2.select('sensor_id','time_id', 'value', 'equipment_id', 'plant_id', 'processed_at').show(5)"
   ]
  },
  {
   "cell_type": "markdown",
   "id": "68f27ae7-f07e-40d9-8355-1949c1e1534f",
   "metadata": {},
   "source": [
    "---"
   ]
  },
  {
   "cell_type": "code",
   "execution_count": 144,
   "id": "6b1a2951-9655-4858-9097-5b9e186fd0ee",
   "metadata": {
    "execution": {
     "iopub.execute_input": "2025-04-04T23:10:33.440832Z",
     "iopub.status.busy": "2025-04-04T23:10:33.440594Z",
     "iopub.status.idle": "2025-04-04T23:10:33.483417Z",
     "shell.execute_reply": "2025-04-04T23:10:33.482768Z",
     "shell.execute_reply.started": "2025-04-04T23:10:33.440807Z"
    },
    "tags": []
   },
   "outputs": [
    {
     "data": {
      "application/vnd.jupyter.widget-view+json": {
       "model_id": "10d0fcccaef749cf91726d013126ec23",
       "version_major": 2,
       "version_minor": 0
      },
      "text/plain": [
       "VBox()"
      ]
     },
     "metadata": {},
     "output_type": "display_data"
    },
    {
     "data": {
      "application/vnd.jupyter.widget-view+json": {
       "model_id": "",
       "version_major": 2,
       "version_minor": 0
      },
      "text/plain": [
       "FloatProgress(value=0.0, bar_style='info', description='Progress:', layout=Layout(height='25px', width='50%'),…"
      ]
     },
     "metadata": {},
     "output_type": "display_data"
    }
   ],
   "source": [
    "lat_ls = [32.52, 29.98, 28.63, 24.02, 19.15, 25.67, 19.30, 20.97, 16.95]\n",
    "lon_ls = [-117.03, -110.30, -106.08, -104.65, -96.12, -100.31, -96.85, -89.62, -96.50]\n",
    "plant_names = [\n",
    "    \"Baja Norte Plant\",\n",
    "    \"Sonora Solar Plant\",\n",
    "    \"Chihuahua Wind Plant\",\n",
    "    \"Durango Energy Hub\",\n",
    "    \"Gulf Coast Plant\",\n",
    "    \"Monterrey Thermal Plant\",\n",
    "    \"Veracruz Hydropower Plant\",\n",
    "    \"Yucatan Power Station\",\n",
    "    \"Oaxaca Renewable Station\"]\n",
    "coord_df = spark.createDataFrame(zip(plant_names, lat_ls, lon_ls), [\"name\", \"latitude\", \"longitude\"])"
   ]
  },
  {
   "cell_type": "code",
   "execution_count": 146,
   "id": "11ce8015-d528-4aef-a988-9c542410bc17",
   "metadata": {
    "execution": {
     "iopub.execute_input": "2025-04-04T23:10:42.119163Z",
     "iopub.status.busy": "2025-04-04T23:10:42.118896Z",
     "iopub.status.idle": "2025-04-04T23:10:49.397937Z",
     "shell.execute_reply": "2025-04-04T23:10:49.397293Z",
     "shell.execute_reply.started": "2025-04-04T23:10:42.119134Z"
    },
    "tags": []
   },
   "outputs": [
    {
     "data": {
      "application/vnd.jupyter.widget-view+json": {
       "model_id": "21c4ec7aaf16486eb3595e1874eedf4c",
       "version_major": 2,
       "version_minor": 0
      },
      "text/plain": [
       "VBox()"
      ]
     },
     "metadata": {},
     "output_type": "display_data"
    },
    {
     "data": {
      "application/vnd.jupyter.widget-view+json": {
       "model_id": "",
       "version_major": 2,
       "version_minor": 0
      },
      "text/plain": [
       "FloatProgress(value=0.0, bar_style='info', description='Progress:', layout=Layout(height='25px', width='50%'),…"
      ]
     },
     "metadata": {},
     "output_type": "display_data"
    },
    {
     "name": "stdout",
     "output_type": "stream",
     "text": [
      "+--------------------+--------+---------+\n",
      "|                name|latitude|longitude|\n",
      "+--------------------+--------+---------+\n",
      "|    Baja Norte Plant|   32.52|  -117.03|\n",
      "|  Sonora Solar Plant|   29.98|   -110.3|\n",
      "|Chihuahua Wind Plant|   28.63|  -106.08|\n",
      "|  Durango Energy Hub|   24.02|  -104.65|\n",
      "|    Gulf Coast Plant|   19.15|   -96.12|\n",
      "|Monterrey Thermal...|   25.67|  -100.31|\n",
      "|Veracruz Hydropow...|    19.3|   -96.85|\n",
      "|Yucatan Power Sta...|   20.97|   -89.62|\n",
      "|Oaxaca Renewable ...|   16.95|    -96.5|\n",
      "+--------------------+--------+---------+"
     ]
    }
   ],
   "source": [
    "coord_df.show()"
   ]
  },
  {
   "cell_type": "code",
   "execution_count": 155,
   "id": "664b2622-1f49-450b-aefb-0db41ed724f2",
   "metadata": {
    "execution": {
     "iopub.execute_input": "2025-04-04T23:12:49.128266Z",
     "iopub.status.busy": "2025-04-04T23:12:49.127806Z",
     "iopub.status.idle": "2025-04-04T23:12:49.174629Z",
     "shell.execute_reply": "2025-04-04T23:12:49.173919Z",
     "shell.execute_reply.started": "2025-04-04T23:12:49.128226Z"
    },
    "tags": []
   },
   "outputs": [
    {
     "data": {
      "application/vnd.jupyter.widget-view+json": {
       "model_id": "097f924d6ff046c3af12ef4c88ec444f",
       "version_major": 2,
       "version_minor": 0
      },
      "text/plain": [
       "VBox()"
      ]
     },
     "metadata": {},
     "output_type": "display_data"
    },
    {
     "data": {
      "application/vnd.jupyter.widget-view+json": {
       "model_id": "",
       "version_major": 2,
       "version_minor": 0
      },
      "text/plain": [
       "FloatProgress(value=0.0, bar_style='info', description='Progress:', layout=Layout(height='25px', width='50%'),…"
      ]
     },
     "metadata": {},
     "output_type": "display_data"
    }
   ],
   "source": [
    "plants = plants.join(coord_df, on=\"name\", how=\"left\")"
   ]
  },
  {
   "cell_type": "code",
   "execution_count": 171,
   "id": "b2c612db-6aaa-4125-824f-3f0a26706556",
   "metadata": {
    "execution": {
     "iopub.execute_input": "2025-04-04T23:40:58.387560Z",
     "iopub.status.busy": "2025-04-04T23:40:58.387285Z",
     "iopub.status.idle": "2025-04-04T23:40:58.631619Z",
     "shell.execute_reply": "2025-04-04T23:40:58.630946Z",
     "shell.execute_reply.started": "2025-04-04T23:40:58.387532Z"
    },
    "tags": []
   },
   "outputs": [
    {
     "data": {
      "application/vnd.jupyter.widget-view+json": {
       "model_id": "54ac5dbef53647f6bfdf88f8714bf077",
       "version_major": 2,
       "version_minor": 0
      },
      "text/plain": [
       "VBox()"
      ]
     },
     "metadata": {},
     "output_type": "display_data"
    },
    {
     "data": {
      "application/vnd.jupyter.widget-view+json": {
       "model_id": "",
       "version_major": 2,
       "version_minor": 0
      },
      "text/plain": [
       "FloatProgress(value=0.0, bar_style='info', description='Progress:', layout=Layout(height='25px', width='50%'),…"
      ]
     },
     "metadata": {},
     "output_type": "display_data"
    }
   ],
   "source": [
    "plants = plants.select('plant_id', 'name', 'region', 'latitude', 'longitude')"
   ]
  },
  {
   "cell_type": "code",
   "execution_count": 172,
   "id": "57dd704a-e5a6-4326-bd39-69451735a15e",
   "metadata": {
    "execution": {
     "iopub.execute_input": "2025-04-04T23:41:03.714054Z",
     "iopub.status.busy": "2025-04-04T23:41:03.713653Z",
     "iopub.status.idle": "2025-04-04T23:41:06.996097Z",
     "shell.execute_reply": "2025-04-04T23:41:06.995476Z",
     "shell.execute_reply.started": "2025-04-04T23:41:03.713997Z"
    },
    "tags": []
   },
   "outputs": [
    {
     "data": {
      "application/vnd.jupyter.widget-view+json": {
       "model_id": "22b155588c2b4f829d5138bee21aff7f",
       "version_major": 2,
       "version_minor": 0
      },
      "text/plain": [
       "VBox()"
      ]
     },
     "metadata": {},
     "output_type": "display_data"
    },
    {
     "data": {
      "application/vnd.jupyter.widget-view+json": {
       "model_id": "",
       "version_major": 2,
       "version_minor": 0
      },
      "text/plain": [
       "FloatProgress(value=0.0, bar_style='info', description='Progress:', layout=Layout(height='25px', width='50%'),…"
      ]
     },
     "metadata": {},
     "output_type": "display_data"
    }
   ],
   "source": [
    "#sensors.write.parquet('s3://00-arkham-challenge/transform-zone-jagc/sensors/', mode='overwrite')\n",
    "#equipments.write.parquet('s3://00-arkham-challenge/transform-zone-jagc/equipments/', mode='overwrite')\n",
    "#plants.write.parquet('s3://00-arkham-challenge/transform-zone-jagc/plants/', mode='overwrite')"
   ]
  },
  {
   "cell_type": "code",
   "execution_count": 167,
   "id": "be4dbb0e-aeca-41f9-b39d-96b0182a4325",
   "metadata": {
    "execution": {
     "iopub.execute_input": "2025-04-04T23:39:09.262470Z",
     "iopub.status.busy": "2025-04-04T23:39:09.262204Z",
     "iopub.status.idle": "2025-04-04T23:39:18.546495Z",
     "shell.execute_reply": "2025-04-04T23:39:18.545663Z",
     "shell.execute_reply.started": "2025-04-04T23:39:09.262439Z"
    },
    "tags": []
   },
   "outputs": [
    {
     "data": {
      "application/vnd.jupyter.widget-view+json": {
       "model_id": "aa89bfe1c9f84113870d6c7d2bfdd24e",
       "version_major": 2,
       "version_minor": 0
      },
      "text/plain": [
       "VBox()"
      ]
     },
     "metadata": {},
     "output_type": "display_data"
    },
    {
     "data": {
      "application/vnd.jupyter.widget-view+json": {
       "model_id": "",
       "version_major": 2,
       "version_minor": 0
      },
      "text/plain": [
       "FloatProgress(value=0.0, bar_style='info', description='Progress:', layout=Layout(height='25px', width='50%'),…"
      ]
     },
     "metadata": {},
     "output_type": "display_data"
    },
    {
     "name": "stdout",
     "output_type": "stream",
     "text": [
      "+--------------------+--------+---------+--------+---------+\n",
      "|                name|plant_id|   region|latitude|longitude|\n",
      "+--------------------+--------+---------+--------+---------+\n",
      "|    Gulf Coast Plant|    1005|Northeast|   19.15|   -96.12|\n",
      "|Yucatan Power Sta...|    1008|Southwest|   20.97|   -89.62|\n",
      "|  Sonora Solar Plant|    1002|Northwest|   29.98|   -110.3|\n",
      "|Veracruz Hydropow...|    1007|Northeast|    19.3|   -96.85|\n",
      "|Monterrey Thermal...|    1006|Northeast|   25.67|  -100.31|\n",
      "|Chihuahua Wind Plant|    1003|Northwest|   28.63|  -106.08|\n",
      "|    Baja Norte Plant|    1001|Northwest|   32.52|  -117.03|\n",
      "|Oaxaca Renewable ...|    1009|Southeast|   16.95|    -96.5|\n",
      "|  Durango Energy Hub|    1004|Northwest|   24.02|  -104.65|\n",
      "+--------------------+--------+---------+--------+---------+"
     ]
    }
   ],
   "source": [
    "test = spark.read.parquet(\"s3://00-arkham-challenge/transform-zone-jagc/plants/\")\n",
    "test.show()"
   ]
  },
  {
   "cell_type": "code",
   "execution_count": 168,
   "id": "99bd4986-8c4a-47c8-97c7-b2cd2152227a",
   "metadata": {
    "execution": {
     "iopub.execute_input": "2025-04-04T23:39:18.548277Z",
     "iopub.status.busy": "2025-04-04T23:39:18.548016Z",
     "iopub.status.idle": "2025-04-04T23:39:18.589421Z",
     "shell.execute_reply": "2025-04-04T23:39:18.588696Z",
     "shell.execute_reply.started": "2025-04-04T23:39:18.548239Z"
    }
   },
   "outputs": [
    {
     "data": {
      "application/vnd.jupyter.widget-view+json": {
       "model_id": "9e41cb29928f4d2cb04f683a9b30600f",
       "version_major": 2,
       "version_minor": 0
      },
      "text/plain": [
       "VBox()"
      ]
     },
     "metadata": {},
     "output_type": "display_data"
    },
    {
     "data": {
      "application/vnd.jupyter.widget-view+json": {
       "model_id": "",
       "version_major": 2,
       "version_minor": 0
      },
      "text/plain": [
       "FloatProgress(value=0.0, bar_style='info', description='Progress:', layout=Layout(height='25px', width='50%'),…"
      ]
     },
     "metadata": {},
     "output_type": "display_data"
    },
    {
     "name": "stdout",
     "output_type": "stream",
     "text": [
      "root\n",
      " |-- name: string (nullable = true)\n",
      " |-- plant_id: integer (nullable = true)\n",
      " |-- region: string (nullable = true)\n",
      " |-- latitude: double (nullable = true)\n",
      " |-- longitude: double (nullable = true)"
     ]
    }
   ],
   "source": [
    "test.printSchema()"
   ]
  },
  {
   "cell_type": "code",
   "execution_count": null,
   "id": "37872669-339f-4f87-a438-cddc6127c36c",
   "metadata": {},
   "outputs": [],
   "source": []
  },
  {
   "cell_type": "code",
   "execution_count": null,
   "id": "48617432-2de6-4634-86f1-e32e2992a5ea",
   "metadata": {},
   "outputs": [],
   "source": []
  },
  {
   "cell_type": "code",
   "execution_count": 32,
   "id": "f4477772-76e5-42ac-bd7a-a147ab0acee4",
   "metadata": {
    "execution": {
     "iopub.execute_input": "2025-04-05T22:58:32.006298Z",
     "iopub.status.busy": "2025-04-05T22:58:32.006042Z",
     "iopub.status.idle": "2025-04-05T22:58:32.049095Z",
     "shell.execute_reply": "2025-04-05T22:58:32.048400Z",
     "shell.execute_reply.started": "2025-04-05T22:58:32.006271Z"
    },
    "tags": []
   },
   "outputs": [
    {
     "data": {
      "application/vnd.jupyter.widget-view+json": {
       "model_id": "5b47ece341554c1f9fd3d21fd80eb227",
       "version_major": 2,
       "version_minor": 0
      },
      "text/plain": [
       "VBox()"
      ]
     },
     "metadata": {},
     "output_type": "display_data"
    },
    {
     "data": {
      "application/vnd.jupyter.widget-view+json": {
       "model_id": "",
       "version_major": 2,
       "version_minor": 0
      },
      "text/plain": [
       "FloatProgress(value=0.0, bar_style='info', description='Progress:', layout=Layout(height='25px', width='50%'),…"
      ]
     },
     "metadata": {},
     "output_type": "display_data"
    },
    {
     "name": "stdout",
     "output_type": "stream",
     "text": [
      "s3://00-arkham-challenge/transform-zone-jagc/sensor_readings/year=2025/month=4/day=5/"
     ]
    }
   ],
   "source": [
    "path = 's3://00-arkham-challenge/transform-zone-jagc/sensor_readings/year={}/month={}/day={}/'.format(2025, 4, 5)\n",
    "print(path)"
   ]
  },
  {
   "cell_type": "code",
   "execution_count": 34,
   "id": "b07c81e5-bc3e-4c71-8498-96274df46db1",
   "metadata": {
    "execution": {
     "iopub.execute_input": "2025-04-05T22:59:29.344392Z",
     "iopub.status.busy": "2025-04-05T22:59:29.344171Z",
     "iopub.status.idle": "2025-04-05T22:59:36.617917Z",
     "shell.execute_reply": "2025-04-05T22:59:36.617291Z",
     "shell.execute_reply.started": "2025-04-05T22:59:29.344368Z"
    },
    "tags": []
   },
   "outputs": [
    {
     "data": {
      "application/vnd.jupyter.widget-view+json": {
       "model_id": "02be24c5942f44ad9ea2dca685ea8e02",
       "version_major": 2,
       "version_minor": 0
      },
      "text/plain": [
       "VBox()"
      ]
     },
     "metadata": {},
     "output_type": "display_data"
    },
    {
     "data": {
      "application/vnd.jupyter.widget-view+json": {
       "model_id": "",
       "version_major": 2,
       "version_minor": 0
      },
      "text/plain": [
       "FloatProgress(value=0.0, bar_style='info', description='Progress:', layout=Layout(height='25px', width='50%'),…"
      ]
     },
     "metadata": {},
     "output_type": "display_data"
    }
   ],
   "source": [
    "# load fact table\n",
    "df2.select(\n",
    "    'sensor_id','time_id', 'value', 'equipment_id', 'plant_id', 'processed_at'\n",
    ").write.parquet(path, mode='overwrite')"
   ]
  },
  {
   "cell_type": "code",
   "execution_count": 184,
   "id": "24641bc1-3d3f-4894-a303-871e8da9b9f3",
   "metadata": {
    "execution": {
     "iopub.execute_input": "2025-04-05T00:12:49.087583Z",
     "iopub.status.busy": "2025-04-05T00:12:49.087342Z",
     "iopub.status.idle": "2025-04-05T00:12:49.333910Z",
     "shell.execute_reply": "2025-04-05T00:12:49.333286Z",
     "shell.execute_reply.started": "2025-04-05T00:12:49.087556Z"
    }
   },
   "outputs": [
    {
     "data": {
      "application/vnd.jupyter.widget-view+json": {
       "model_id": "46fcfe0a99b24f28b5d505eb5628d6e8",
       "version_major": 2,
       "version_minor": 0
      },
      "text/plain": [
       "VBox()"
      ]
     },
     "metadata": {},
     "output_type": "display_data"
    },
    {
     "data": {
      "application/vnd.jupyter.widget-view+json": {
       "model_id": "",
       "version_major": 2,
       "version_minor": 0
      },
      "text/plain": [
       "FloatProgress(value=0.0, bar_style='info', description='Progress:', layout=Layout(height='25px', width='50%'),…"
      ]
     },
     "metadata": {},
     "output_type": "display_data"
    },
    {
     "name": "stdout",
     "output_type": "stream",
     "text": [
      "root\n",
      " |-- sensor_id: integer (nullable = true)\n",
      " |-- time_id: long (nullable = true)\n",
      " |-- value: double (nullable = true)\n",
      " |-- equipment_id: integer (nullable = true)\n",
      " |-- plant_id: integer (nullable = true)\n",
      " |-- processed_at: long (nullable = true)"
     ]
    }
   ],
   "source": [
    "df2.select(\n",
    "    'sensor_id','time_id', 'value', 'equipment_id', 'plant_id', 'processed_at'\n",
    ").printSchema()"
   ]
  },
  {
   "cell_type": "code",
   "execution_count": 185,
   "id": "dd5b238b-72f3-4e41-820a-c078cfe7ea5c",
   "metadata": {
    "execution": {
     "iopub.execute_input": "2025-04-05T00:16:24.396165Z",
     "iopub.status.busy": "2025-04-05T00:16:24.395882Z",
     "iopub.status.idle": "2025-04-05T00:16:33.681714Z",
     "shell.execute_reply": "2025-04-05T00:16:33.680959Z",
     "shell.execute_reply.started": "2025-04-05T00:16:24.396102Z"
    }
   },
   "outputs": [
    {
     "data": {
      "application/vnd.jupyter.widget-view+json": {
       "model_id": "2f89899efff3467a9102c5a2161c5bd4",
       "version_major": 2,
       "version_minor": 0
      },
      "text/plain": [
       "VBox()"
      ]
     },
     "metadata": {},
     "output_type": "display_data"
    },
    {
     "data": {
      "application/vnd.jupyter.widget-view+json": {
       "model_id": "",
       "version_major": 2,
       "version_minor": 0
      },
      "text/plain": [
       "FloatProgress(value=0.0, bar_style='info', description='Progress:', layout=Layout(height='25px', width='50%'),…"
      ]
     },
     "metadata": {},
     "output_type": "display_data"
    },
    {
     "name": "stdout",
     "output_type": "stream",
     "text": [
      "1218"
     ]
    }
   ],
   "source": [
    "df2.count()"
   ]
  },
  {
   "cell_type": "code",
   "execution_count": null,
   "id": "9787a37c-9c58-4d33-b677-82e757c28a52",
   "metadata": {},
   "outputs": [],
   "source": []
  },
  {
   "cell_type": "markdown",
   "id": "98d90272-61d8-4616-95a4-a5bd0ab07f45",
   "metadata": {},
   "source": [
    "---"
   ]
  },
  {
   "cell_type": "code",
   "execution_count": null,
   "id": "8648b892-4ae2-465b-b253-3a1cda979f40",
   "metadata": {},
   "outputs": [],
   "source": [
    "# generate the dim table"
   ]
  },
  {
   "cell_type": "code",
   "execution_count": 68,
   "id": "5f2cda43-c561-43b2-978b-40292ee869a6",
   "metadata": {
    "execution": {
     "iopub.execute_input": "2025-04-04T17:22:47.332441Z",
     "iopub.status.busy": "2025-04-04T17:22:47.332197Z",
     "iopub.status.idle": "2025-04-04T17:22:47.377992Z",
     "shell.execute_reply": "2025-04-04T17:22:47.377255Z",
     "shell.execute_reply.started": "2025-04-04T17:22:47.332414Z"
    },
    "tags": []
   },
   "outputs": [
    {
     "data": {
      "application/vnd.jupyter.widget-view+json": {
       "model_id": "57f0abc726ef4dfcb80a32e891759fd6",
       "version_major": 2,
       "version_minor": 0
      },
      "text/plain": [
       "VBox()"
      ]
     },
     "metadata": {},
     "output_type": "display_data"
    },
    {
     "data": {
      "application/vnd.jupyter.widget-view+json": {
       "model_id": "",
       "version_major": 2,
       "version_minor": 0
      },
      "text/plain": [
       "FloatProgress(value=0.0, bar_style='info', description='Progress:', layout=Layout(height='25px', width='50%'),…"
      ]
     },
     "metadata": {},
     "output_type": "display_data"
    }
   ],
   "source": [
    "from pyspark.sql.functions import col, explode, sequence, to_date, lit, unix_timestamp, hour, dayofmonth, month, year"
   ]
  },
  {
   "cell_type": "code",
   "execution_count": 63,
   "id": "a55af09f-9a8a-4843-983b-5ebce1f7fc3f",
   "metadata": {
    "execution": {
     "iopub.execute_input": "2025-04-04T17:21:23.390438Z",
     "iopub.status.busy": "2025-04-04T17:21:23.390208Z",
     "iopub.status.idle": "2025-04-04T17:21:23.430937Z",
     "shell.execute_reply": "2025-04-04T17:21:23.430315Z",
     "shell.execute_reply.started": "2025-04-04T17:21:23.390412Z"
    },
    "tags": []
   },
   "outputs": [
    {
     "data": {
      "application/vnd.jupyter.widget-view+json": {
       "model_id": "d65e85d3d3484a42a3eb87d6b9433465",
       "version_major": 2,
       "version_minor": 0
      },
      "text/plain": [
       "VBox()"
      ]
     },
     "metadata": {},
     "output_type": "display_data"
    },
    {
     "data": {
      "application/vnd.jupyter.widget-view+json": {
       "model_id": "",
       "version_major": 2,
       "version_minor": 0
      },
      "text/plain": [
       "FloatProgress(value=0.0, bar_style='info', description='Progress:', layout=Layout(height='25px', width='50%'),…"
      ]
     },
     "metadata": {},
     "output_type": "display_data"
    }
   ],
   "source": [
    "start_date = \"2020-01-01\"\n",
    "end_date = \"2030-12-31\""
   ]
  },
  {
   "cell_type": "code",
   "execution_count": 64,
   "id": "5c2125b0-a5a7-4610-a4ff-88ef99578d54",
   "metadata": {
    "execution": {
     "iopub.execute_input": "2025-04-04T17:21:38.286663Z",
     "iopub.status.busy": "2025-04-04T17:21:38.286403Z",
     "iopub.status.idle": "2025-04-04T17:21:38.533588Z",
     "shell.execute_reply": "2025-04-04T17:21:38.532768Z",
     "shell.execute_reply.started": "2025-04-04T17:21:38.286636Z"
    }
   },
   "outputs": [
    {
     "data": {
      "application/vnd.jupyter.widget-view+json": {
       "model_id": "711832daef524c38855a42f15c4358e4",
       "version_major": 2,
       "version_minor": 0
      },
      "text/plain": [
       "VBox()"
      ]
     },
     "metadata": {},
     "output_type": "display_data"
    },
    {
     "data": {
      "application/vnd.jupyter.widget-view+json": {
       "model_id": "",
       "version_major": 2,
       "version_minor": 0
      },
      "text/plain": [
       "FloatProgress(value=0.0, bar_style='info', description='Progress:', layout=Layout(height='25px', width='50%'),…"
      ]
     },
     "metadata": {},
     "output_type": "display_data"
    }
   ],
   "source": [
    "# Create a DataFrame with a sequence of dates\n",
    "dates_df = spark.sql(f\"SELECT explode(sequence(to_date('{start_date}'), to_date('{end_date}'), interval 1 day)) as date\")"
   ]
  },
  {
   "cell_type": "code",
   "execution_count": 69,
   "id": "ad1d30b6-5c0c-42b9-8c80-facecb0e7b75",
   "metadata": {
    "execution": {
     "iopub.execute_input": "2025-04-04T17:22:48.865862Z",
     "iopub.status.busy": "2025-04-04T17:22:48.865602Z",
     "iopub.status.idle": "2025-04-04T17:22:49.112400Z",
     "shell.execute_reply": "2025-04-04T17:22:49.111705Z",
     "shell.execute_reply.started": "2025-04-04T17:22:48.865835Z"
    },
    "tags": []
   },
   "outputs": [
    {
     "data": {
      "application/vnd.jupyter.widget-view+json": {
       "model_id": "c0a2ced595504bdbbc987d7b69eebfd4",
       "version_major": 2,
       "version_minor": 0
      },
      "text/plain": [
       "VBox()"
      ]
     },
     "metadata": {},
     "output_type": "display_data"
    },
    {
     "data": {
      "application/vnd.jupyter.widget-view+json": {
       "model_id": "",
       "version_major": 2,
       "version_minor": 0
      },
      "text/plain": [
       "FloatProgress(value=0.0, bar_style='info', description='Progress:', layout=Layout(height='25px', width='50%'),…"
      ]
     },
     "metadata": {},
     "output_type": "display_data"
    }
   ],
   "source": [
    "# Generate time dimension attributes\n",
    "time_dim_df = dates_df.select(\n",
    "    col(\"date\").alias(\"date_value\"),\n",
    "    unix_timestamp(col(\"date\")).alias(\"time_id\"),  # Epoch timestamp\n",
    "    year(col(\"date\")).alias(\"year\"),\n",
    "    month(col(\"date\")).alias(\"month\"),\n",
    "    dayofmonth(col(\"date\")).alias(\"day\"))"
   ]
  },
  {
   "cell_type": "code",
   "execution_count": 60,
   "id": "73d4628d-a767-40d2-ac0c-5df409b7151b",
   "metadata": {
    "execution": {
     "iopub.execute_input": "2025-04-04T17:20:14.639013Z",
     "iopub.status.busy": "2025-04-04T17:20:14.638783Z",
     "iopub.status.idle": "2025-04-04T17:20:14.891960Z",
     "shell.execute_reply": "2025-04-04T17:20:14.891091Z",
     "shell.execute_reply.started": "2025-04-04T17:20:14.638987Z"
    }
   },
   "outputs": [
    {
     "data": {
      "application/vnd.jupyter.widget-view+json": {
       "model_id": "8b45c390a33548a28a322abb55ef51f5",
       "version_major": 2,
       "version_minor": 0
      },
      "text/plain": [
       "VBox()"
      ]
     },
     "metadata": {},
     "output_type": "display_data"
    },
    {
     "data": {
      "application/vnd.jupyter.widget-view+json": {
       "model_id": "",
       "version_major": 2,
       "version_minor": 0
      },
      "text/plain": [
       "FloatProgress(value=0.0, bar_style='info', description='Progress:', layout=Layout(height='25px', width='50%'),…"
      ]
     },
     "metadata": {},
     "output_type": "display_data"
    }
   ],
   "source": [
    "hours_df = spark.range(24).selectExpr(\"id as hour\")"
   ]
  },
  {
   "cell_type": "code",
   "execution_count": 71,
   "id": "5c47f389-2c5c-4df5-9bae-3d8da5940b85",
   "metadata": {
    "execution": {
     "iopub.execute_input": "2025-04-04T17:24:04.538688Z",
     "iopub.status.busy": "2025-04-04T17:24:04.538435Z",
     "iopub.status.idle": "2025-04-04T17:24:04.784712Z",
     "shell.execute_reply": "2025-04-04T17:24:04.783971Z",
     "shell.execute_reply.started": "2025-04-04T17:24:04.538658Z"
    },
    "tags": []
   },
   "outputs": [
    {
     "data": {
      "application/vnd.jupyter.widget-view+json": {
       "model_id": "eead4c33c76a4244976b814a8ec6a2ed",
       "version_major": 2,
       "version_minor": 0
      },
      "text/plain": [
       "VBox()"
      ]
     },
     "metadata": {},
     "output_type": "display_data"
    },
    {
     "data": {
      "application/vnd.jupyter.widget-view+json": {
       "model_id": "",
       "version_major": 2,
       "version_minor": 0
      },
      "text/plain": [
       "FloatProgress(value=0.0, bar_style='info', description='Progress:', layout=Layout(height='25px', width='50%'),…"
      ]
     },
     "metadata": {},
     "output_type": "display_data"
    }
   ],
   "source": [
    "time_dim_hourly_df = time_dim_df.crossJoin(hours_df).select(\n",
    "    col(\"date_value\"),\n",
    "    (unix_timestamp(col(\"date_value\")) + (col(\"hour\") * 3600)).alias(\"time_id\")\n",
    "    col(\"year\"),\n",
    "    col(\"month\"),\n",
    "    col(\"day\"),\n",
    "    col(\"hour\"))"
   ]
  },
  {
   "cell_type": "code",
   "execution_count": 72,
   "id": "cee9738e-627e-4315-a529-a86736367f2a",
   "metadata": {
    "execution": {
     "iopub.execute_input": "2025-04-04T17:24:10.954316Z",
     "iopub.status.busy": "2025-04-04T17:24:10.954039Z",
     "iopub.status.idle": "2025-04-04T17:24:18.230407Z",
     "shell.execute_reply": "2025-04-04T17:24:18.229712Z",
     "shell.execute_reply.started": "2025-04-04T17:24:10.954286Z"
    }
   },
   "outputs": [
    {
     "data": {
      "application/vnd.jupyter.widget-view+json": {
       "model_id": "e1a1ed9dec0b4258b458c5bff295db77",
       "version_major": 2,
       "version_minor": 0
      },
      "text/plain": [
       "VBox()"
      ]
     },
     "metadata": {},
     "output_type": "display_data"
    },
    {
     "data": {
      "application/vnd.jupyter.widget-view+json": {
       "model_id": "",
       "version_major": 2,
       "version_minor": 0
      },
      "text/plain": [
       "FloatProgress(value=0.0, bar_style='info', description='Progress:', layout=Layout(height='25px', width='50%'),…"
      ]
     },
     "metadata": {},
     "output_type": "display_data"
    },
    {
     "name": "stdout",
     "output_type": "stream",
     "text": [
      "+----------+----------+----+-----+---+----+\n",
      "|date_value|   time_id|year|month|day|hour|\n",
      "+----------+----------+----+-----+---+----+\n",
      "|2020-01-01|1577836800|2020|    1|  1|   0|\n",
      "|2020-01-02|1577923200|2020|    1|  2|   0|\n",
      "|2020-01-03|1578009600|2020|    1|  3|   0|\n",
      "|2020-01-04|1578096000|2020|    1|  4|   0|\n",
      "|2020-01-05|1578182400|2020|    1|  5|   0|\n",
      "+----------+----------+----+-----+---+----+\n",
      "only showing top 5 rows"
     ]
    }
   ],
   "source": [
    "time_dim_hourly_df.show(5)"
   ]
  },
  {
   "cell_type": "code",
   "execution_count": 106,
   "id": "f2466062-2ffa-49d2-b64a-11bf6db42e85",
   "metadata": {
    "execution": {
     "iopub.execute_input": "2025-04-04T17:51:30.188439Z",
     "iopub.status.busy": "2025-04-04T17:51:30.188195Z",
     "iopub.status.idle": "2025-04-04T17:51:31.465564Z",
     "shell.execute_reply": "2025-04-04T17:51:31.464777Z",
     "shell.execute_reply.started": "2025-04-04T17:51:30.188413Z"
    },
    "tags": []
   },
   "outputs": [
    {
     "data": {
      "application/vnd.jupyter.widget-view+json": {
       "model_id": "968b9ca41434451589200790af1a0c8e",
       "version_major": 2,
       "version_minor": 0
      },
      "text/plain": [
       "VBox()"
      ]
     },
     "metadata": {},
     "output_type": "display_data"
    },
    {
     "data": {
      "application/vnd.jupyter.widget-view+json": {
       "model_id": "",
       "version_major": 2,
       "version_minor": 0
      },
      "text/plain": [
       "FloatProgress(value=0.0, bar_style='info', description='Progress:', layout=Layout(height='25px', width='50%'),…"
      ]
     },
     "metadata": {},
     "output_type": "display_data"
    },
    {
     "name": "stdout",
     "output_type": "stream",
     "text": [
      "+-------+-----+\n",
      "|time_id|count|\n",
      "+-------+-----+\n",
      "+-------+-----+"
     ]
    }
   ],
   "source": [
    "time_dim_hourly_df.groupBy(time_dim_hourly_df.time_id).count().where(col('count') > 1).show()"
   ]
  },
  {
   "cell_type": "code",
   "execution_count": 73,
   "id": "8057bf9e-0e34-4ac4-af74-902e4a542994",
   "metadata": {
    "execution": {
     "iopub.execute_input": "2025-04-04T17:25:17.884193Z",
     "iopub.status.busy": "2025-04-04T17:25:17.883952Z",
     "iopub.status.idle": "2025-04-04T17:25:25.184574Z",
     "shell.execute_reply": "2025-04-04T17:25:25.183812Z",
     "shell.execute_reply.started": "2025-04-04T17:25:17.884164Z"
    }
   },
   "outputs": [
    {
     "data": {
      "application/vnd.jupyter.widget-view+json": {
       "model_id": "ae189bcedb6f4245b3dd7f7598714b88",
       "version_major": 2,
       "version_minor": 0
      },
      "text/plain": [
       "VBox()"
      ]
     },
     "metadata": {},
     "output_type": "display_data"
    },
    {
     "data": {
      "application/vnd.jupyter.widget-view+json": {
       "model_id": "",
       "version_major": 2,
       "version_minor": 0
      },
      "text/plain": [
       "FloatProgress(value=0.0, bar_style='info', description='Progress:', layout=Layout(height='25px', width='50%'),…"
      ]
     },
     "metadata": {},
     "output_type": "display_data"
    },
    {
     "name": "stdout",
     "output_type": "stream",
     "text": [
      "(4018, 96432)"
     ]
    }
   ],
   "source": [
    "dates_df.count(), time_dim_hourly_df.count()"
   ]
  },
  {
   "cell_type": "code",
   "execution_count": 74,
   "id": "66417daf-4267-40b6-920d-ca2bad792ffd",
   "metadata": {
    "execution": {
     "iopub.execute_input": "2025-04-04T17:26:52.390227Z",
     "iopub.status.busy": "2025-04-04T17:26:52.389989Z",
     "iopub.status.idle": "2025-04-04T17:26:59.665441Z",
     "shell.execute_reply": "2025-04-04T17:26:59.664731Z",
     "shell.execute_reply.started": "2025-04-04T17:26:52.390199Z"
    }
   },
   "outputs": [
    {
     "data": {
      "application/vnd.jupyter.widget-view+json": {
       "model_id": "8eaef1929aa4471294629af04fd21184",
       "version_major": 2,
       "version_minor": 0
      },
      "text/plain": [
       "VBox()"
      ]
     },
     "metadata": {},
     "output_type": "display_data"
    },
    {
     "data": {
      "application/vnd.jupyter.widget-view+json": {
       "model_id": "",
       "version_major": 2,
       "version_minor": 0
      },
      "text/plain": [
       "FloatProgress(value=0.0, bar_style='info', description='Progress:', layout=Layout(height='25px', width='50%'),…"
      ]
     },
     "metadata": {},
     "output_type": "display_data"
    },
    {
     "name": "stdout",
     "output_type": "stream",
     "text": [
      "+------------+---------+-------------------+-------+--------+----------+------------+\n",
      "|equipment_id|sensor_id|          timestamp|  value|plant_id|   time_id|processed_at|\n",
      "+------------+---------+-------------------+-------+--------+----------+------------+\n",
      "|     2000001|  3000001|2025-01-01 00:00:00|1021.89|    1001|1735689600|  1743787612|\n",
      "|     2000001|  3000001|2025-01-01 12:00:00|1005.37|    1001|1735732800|  1743787612|\n",
      "|     2000001|  3000001|2025-01-02 00:00:00|1027.69|    1001|1735776000|  1743787612|\n",
      "|     2000001|  3000001|2025-01-02 12:00:00|1238.85|    1001|1735819200|  1743787612|\n",
      "|     2000001|  3000001|2025-01-03 00:00:00| 1058.9|    1001|1735862400|  1743787612|\n",
      "+------------+---------+-------------------+-------+--------+----------+------------+\n",
      "only showing top 5 rows"
     ]
    }
   ],
   "source": [
    "df2.show(5)"
   ]
  },
  {
   "cell_type": "code",
   "execution_count": 96,
   "id": "94d7baff-11ab-4bab-83c8-4c2f5db75ea2",
   "metadata": {
    "execution": {
     "iopub.execute_input": "2025-04-04T17:46:08.934634Z",
     "iopub.status.busy": "2025-04-04T17:46:08.934396Z",
     "iopub.status.idle": "2025-04-04T17:46:09.185472Z",
     "shell.execute_reply": "2025-04-04T17:46:09.184702Z",
     "shell.execute_reply.started": "2025-04-04T17:46:08.934608Z"
    },
    "tags": []
   },
   "outputs": [
    {
     "data": {
      "application/vnd.jupyter.widget-view+json": {
       "model_id": "6021c2f0aa4b486facb82853c47b9068",
       "version_major": 2,
       "version_minor": 0
      },
      "text/plain": [
       "VBox()"
      ]
     },
     "metadata": {},
     "output_type": "display_data"
    },
    {
     "data": {
      "application/vnd.jupyter.widget-view+json": {
       "model_id": "",
       "version_major": 2,
       "version_minor": 0
      },
      "text/plain": [
       "FloatProgress(value=0.0, bar_style='info', description='Progress:', layout=Layout(height='25px', width='50%'),…"
      ]
     },
     "metadata": {},
     "output_type": "display_data"
    }
   ],
   "source": [
    "test = df2.filter(\n",
    "    (df2.sensor_id == 3000001) & \n",
    "    (df2.time_id == 1735732800))"
   ]
  },
  {
   "cell_type": "code",
   "execution_count": 97,
   "id": "33fa4d4c-dd76-4327-bc0e-1dae15cccc04",
   "metadata": {
    "execution": {
     "iopub.execute_input": "2025-04-04T17:46:10.112552Z",
     "iopub.status.busy": "2025-04-04T17:46:10.112285Z",
     "iopub.status.idle": "2025-04-04T17:46:10.867678Z",
     "shell.execute_reply": "2025-04-04T17:46:10.866809Z",
     "shell.execute_reply.started": "2025-04-04T17:46:10.112524Z"
    },
    "tags": []
   },
   "outputs": [
    {
     "data": {
      "application/vnd.jupyter.widget-view+json": {
       "model_id": "a7b68cae42f84626bfc0d5a30ca34582",
       "version_major": 2,
       "version_minor": 0
      },
      "text/plain": [
       "VBox()"
      ]
     },
     "metadata": {},
     "output_type": "display_data"
    },
    {
     "data": {
      "application/vnd.jupyter.widget-view+json": {
       "model_id": "",
       "version_major": 2,
       "version_minor": 0
      },
      "text/plain": [
       "FloatProgress(value=0.0, bar_style='info', description='Progress:', layout=Layout(height='25px', width='50%'),…"
      ]
     },
     "metadata": {},
     "output_type": "display_data"
    },
    {
     "name": "stdout",
     "output_type": "stream",
     "text": [
      "+------------+---------+-------------------+-------+--------+----------+------------+\n",
      "|equipment_id|sensor_id|          timestamp|  value|plant_id|   time_id|processed_at|\n",
      "+------------+---------+-------------------+-------+--------+----------+------------+\n",
      "|     2000001|  3000001|2025-01-01 12:00:00|1005.37|    1001|1735732800|  1743786000|\n",
      "+------------+---------+-------------------+-------+--------+----------+------------+"
     ]
    }
   ],
   "source": [
    "test.show()"
   ]
  },
  {
   "cell_type": "code",
   "execution_count": 98,
   "id": "be41323f-e79e-44d6-9331-fed199292456",
   "metadata": {
    "execution": {
     "iopub.execute_input": "2025-04-04T17:46:10.897994Z",
     "iopub.status.busy": "2025-04-04T17:46:10.897813Z",
     "iopub.status.idle": "2025-04-04T17:46:11.648912Z",
     "shell.execute_reply": "2025-04-04T17:46:11.648074Z",
     "shell.execute_reply.started": "2025-04-04T17:46:10.897971Z"
    },
    "tags": []
   },
   "outputs": [
    {
     "data": {
      "application/vnd.jupyter.widget-view+json": {
       "model_id": "caa5e88a43b141779ab88f53f7a04215",
       "version_major": 2,
       "version_minor": 0
      },
      "text/plain": [
       "VBox()"
      ]
     },
     "metadata": {},
     "output_type": "display_data"
    },
    {
     "data": {
      "application/vnd.jupyter.widget-view+json": {
       "model_id": "",
       "version_major": 2,
       "version_minor": 0
      },
      "text/plain": [
       "FloatProgress(value=0.0, bar_style='info', description='Progress:', layout=Layout(height='25px', width='50%'),…"
      ]
     },
     "metadata": {},
     "output_type": "display_data"
    },
    {
     "name": "stdout",
     "output_type": "stream",
     "text": [
      "+----------+------------+---------+-------------------+-------+--------+------------+----------+----+-----+---+----+\n",
      "|   time_id|equipment_id|sensor_id|          timestamp|  value|plant_id|processed_at|date_value|year|month|day|hour|\n",
      "+----------+------------+---------+-------------------+-------+--------+------------+----------+----+-----+---+----+\n",
      "|1735732800|     2000001|  3000001|2025-01-01 12:00:00|1005.37|    1001|  1743786000|2025-01-01|2025|    1|  1|  12|\n",
      "+----------+------------+---------+-------------------+-------+--------+------------+----------+----+-----+---+----+"
     ]
    }
   ],
   "source": [
    "test.join(\n",
    "    time_dim_hourly_df,\n",
    "    on = 'time_id',\n",
    "    how='left').show()"
   ]
  },
  {
   "cell_type": "code",
   "execution_count": 99,
   "id": "4edaf27c-ccbf-41ea-8126-b490059b469b",
   "metadata": {
    "execution": {
     "iopub.execute_input": "2025-04-04T17:46:11.650678Z",
     "iopub.status.busy": "2025-04-04T17:46:11.650411Z",
     "iopub.status.idle": "2025-04-04T17:46:12.405184Z",
     "shell.execute_reply": "2025-04-04T17:46:12.404499Z",
     "shell.execute_reply.started": "2025-04-04T17:46:11.650640Z"
    },
    "tags": []
   },
   "outputs": [
    {
     "data": {
      "application/vnd.jupyter.widget-view+json": {
       "model_id": "9c405cd25bd744b09913d25207053e8c",
       "version_major": 2,
       "version_minor": 0
      },
      "text/plain": [
       "VBox()"
      ]
     },
     "metadata": {},
     "output_type": "display_data"
    },
    {
     "data": {
      "application/vnd.jupyter.widget-view+json": {
       "model_id": "",
       "version_major": 2,
       "version_minor": 0
      },
      "text/plain": [
       "FloatProgress(value=0.0, bar_style='info', description='Progress:', layout=Layout(height='25px', width='50%'),…"
      ]
     },
     "metadata": {},
     "output_type": "display_data"
    },
    {
     "name": "stdout",
     "output_type": "stream",
     "text": [
      "+------------+---------+-------------------+-------+--------+----------+------------+----------+----------+----+-----+---+----+\n",
      "|equipment_id|sensor_id|          timestamp|  value|plant_id|   time_id|processed_at|date_value|   time_id|year|month|day|hour|\n",
      "+------------+---------+-------------------+-------+--------+----------+------------+----------+----------+----+-----+---+----+\n",
      "|     2000001|  3000001|2025-01-01 12:00:00|1005.37|    1001|1735732800|  1743786000|2025-04-04|1743786000|2025|    4|  4|  17|\n",
      "+------------+---------+-------------------+-------+--------+----------+------------+----------+----------+----+-----+---+----+"
     ]
    }
   ],
   "source": [
    "test.join(\n",
    "    time_dim_hourly_df,\n",
    "    on = time_dim_hourly_df.time_id == test.processed_at,\n",
    "    how='left').show()"
   ]
  },
  {
   "cell_type": "code",
   "execution_count": 107,
   "id": "df839a0c-6547-4eb5-b97c-209204e60df2",
   "metadata": {
    "execution": {
     "iopub.execute_input": "2025-04-04T17:52:11.278135Z",
     "iopub.status.busy": "2025-04-04T17:52:11.277862Z",
     "iopub.status.idle": "2025-04-04T17:52:14.539437Z",
     "shell.execute_reply": "2025-04-04T17:52:14.538759Z",
     "shell.execute_reply.started": "2025-04-04T17:52:11.278105Z"
    },
    "tags": []
   },
   "outputs": [
    {
     "data": {
      "application/vnd.jupyter.widget-view+json": {
       "model_id": "b597fd34c48141a6a6a67ea8ba377db4",
       "version_major": 2,
       "version_minor": 0
      },
      "text/plain": [
       "VBox()"
      ]
     },
     "metadata": {},
     "output_type": "display_data"
    },
    {
     "data": {
      "application/vnd.jupyter.widget-view+json": {
       "model_id": "",
       "version_major": 2,
       "version_minor": 0
      },
      "text/plain": [
       "FloatProgress(value=0.0, bar_style='info', description='Progress:', layout=Layout(height='25px', width='50%'),…"
      ]
     },
     "metadata": {},
     "output_type": "display_data"
    }
   ],
   "source": [
    "time_dim_hourly_df.write.parquet('s3://00-arkham-challenge/transform-zone-jagc/time/', mode='overwrite')"
   ]
  },
  {
   "cell_type": "code",
   "execution_count": 178,
   "id": "2b74336a-c73c-4e29-9d5d-49a53051c6a7",
   "metadata": {
    "execution": {
     "iopub.execute_input": "2025-04-04T23:48:11.588887Z",
     "iopub.status.busy": "2025-04-04T23:48:11.588595Z",
     "iopub.status.idle": "2025-04-04T23:48:18.869305Z",
     "shell.execute_reply": "2025-04-04T23:48:18.868547Z",
     "shell.execute_reply.started": "2025-04-04T23:48:11.588855Z"
    },
    "tags": []
   },
   "outputs": [
    {
     "data": {
      "application/vnd.jupyter.widget-view+json": {
       "model_id": "e0af3614effe415d81bd713e7e54291c",
       "version_major": 2,
       "version_minor": 0
      },
      "text/plain": [
       "VBox()"
      ]
     },
     "metadata": {},
     "output_type": "display_data"
    },
    {
     "data": {
      "application/vnd.jupyter.widget-view+json": {
       "model_id": "",
       "version_major": 2,
       "version_minor": 0
      },
      "text/plain": [
       "FloatProgress(value=0.0, bar_style='info', description='Progress:', layout=Layout(height='25px', width='50%'),…"
      ]
     },
     "metadata": {},
     "output_type": "display_data"
    },
    {
     "name": "stdout",
     "output_type": "stream",
     "text": [
      "96432"
     ]
    }
   ],
   "source": [
    "time_dim_hourly_df.count()"
   ]
  },
  {
   "cell_type": "code",
   "execution_count": 165,
   "id": "232c1df3-2bcf-497a-b8ef-133407088042",
   "metadata": {
    "execution": {
     "iopub.execute_input": "2025-04-04T23:23:15.238569Z",
     "iopub.status.busy": "2025-04-04T23:23:15.238331Z",
     "iopub.status.idle": "2025-04-04T23:23:15.990059Z",
     "shell.execute_reply": "2025-04-04T23:23:15.989312Z",
     "shell.execute_reply.started": "2025-04-04T23:23:15.238542Z"
    },
    "tags": []
   },
   "outputs": [
    {
     "data": {
      "application/vnd.jupyter.widget-view+json": {
       "model_id": "7104fa713ead40d48c69491416f4cdce",
       "version_major": 2,
       "version_minor": 0
      },
      "text/plain": [
       "VBox()"
      ]
     },
     "metadata": {},
     "output_type": "display_data"
    },
    {
     "data": {
      "application/vnd.jupyter.widget-view+json": {
       "model_id": "",
       "version_major": 2,
       "version_minor": 0
      },
      "text/plain": [
       "FloatProgress(value=0.0, bar_style='info', description='Progress:', layout=Layout(height='25px', width='50%'),…"
      ]
     },
     "metadata": {},
     "output_type": "display_data"
    },
    {
     "name": "stdout",
     "output_type": "stream",
     "text": [
      "+----------+----------+----+-----+---+----+\n",
      "|date_value|   time_id|year|month|day|hour|\n",
      "+----------+----------+----+-----+---+----+\n",
      "|2020-01-01|1577836800|2020|    1|  1|   0|\n",
      "|2020-01-02|1577923200|2020|    1|  2|   0|\n",
      "|2020-01-03|1578009600|2020|    1|  3|   0|\n",
      "|2020-01-04|1578096000|2020|    1|  4|   0|\n",
      "|2020-01-05|1578182400|2020|    1|  5|   0|\n",
      "+----------+----------+----+-----+---+----+\n",
      "only showing top 5 rows"
     ]
    }
   ],
   "source": [
    "time_dim_hourly_df.show(5)"
   ]
  },
  {
   "cell_type": "code",
   "execution_count": 166,
   "id": "0efc2cf0-5106-44a5-83d6-099218ae9fe6",
   "metadata": {
    "execution": {
     "iopub.execute_input": "2025-04-04T23:24:37.897022Z",
     "iopub.status.busy": "2025-04-04T23:24:37.896776Z",
     "iopub.status.idle": "2025-04-04T23:24:37.942591Z",
     "shell.execute_reply": "2025-04-04T23:24:37.941874Z",
     "shell.execute_reply.started": "2025-04-04T23:24:37.896994Z"
    },
    "tags": []
   },
   "outputs": [
    {
     "data": {
      "application/vnd.jupyter.widget-view+json": {
       "model_id": "8a4e0ca3334a47c9a5c33d183489984d",
       "version_major": 2,
       "version_minor": 0
      },
      "text/plain": [
       "VBox()"
      ]
     },
     "metadata": {},
     "output_type": "display_data"
    },
    {
     "data": {
      "application/vnd.jupyter.widget-view+json": {
       "model_id": "",
       "version_major": 2,
       "version_minor": 0
      },
      "text/plain": [
       "FloatProgress(value=0.0, bar_style='info', description='Progress:', layout=Layout(height='25px', width='50%'),…"
      ]
     },
     "metadata": {},
     "output_type": "display_data"
    },
    {
     "name": "stdout",
     "output_type": "stream",
     "text": [
      "root\n",
      " |-- date_value: date (nullable = false)\n",
      " |-- time_id: long (nullable = true)\n",
      " |-- year: integer (nullable = false)\n",
      " |-- month: integer (nullable = false)\n",
      " |-- day: integer (nullable = false)\n",
      " |-- hour: long (nullable = false)"
     ]
    }
   ],
   "source": [
    "time_dim_hourly_df.printSchema()"
   ]
  },
  {
   "cell_type": "code",
   "execution_count": null,
   "id": "347278af-2224-4214-a4b4-bbaf4d224c72",
   "metadata": {},
   "outputs": [],
   "source": []
  },
  {
   "cell_type": "code",
   "execution_count": null,
   "id": "740efb51-3c29-4475-9c05-fc00e0389637",
   "metadata": {},
   "outputs": [],
   "source": []
  }
 ],
 "metadata": {
  "kernelspec": {
   "display_name": "PySpark",
   "language": "python",
   "name": "pysparkkernel"
  },
  "language_info": {
   "codemirror_mode": {
    "name": "python",
    "version": 3
   },
   "file_extension": ".py",
   "mimetype": "text/x-python",
   "name": "pyspark",
   "pygments_lexer": "python3"
  }
 },
 "nbformat": 4,
 "nbformat_minor": 5
}
